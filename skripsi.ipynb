{
 "cells": [
  {
   "cell_type": "code",
   "execution_count": 50,
   "metadata": {},
   "outputs": [
    {
     "data": {
      "text/html": [
       "<div>\n",
       "<style scoped>\n",
       "    .dataframe tbody tr th:only-of-type {\n",
       "        vertical-align: middle;\n",
       "    }\n",
       "\n",
       "    .dataframe tbody tr th {\n",
       "        vertical-align: top;\n",
       "    }\n",
       "\n",
       "    .dataframe thead th {\n",
       "        text-align: right;\n",
       "    }\n",
       "</style>\n",
       "<table border=\"1\" class=\"dataframe\">\n",
       "  <thead>\n",
       "    <tr style=\"text-align: right;\">\n",
       "      <th></th>\n",
       "      <th>obs</th>\n",
       "      <th>time</th>\n",
       "      <th>Delta</th>\n",
       "      <th>Theta</th>\n",
       "      <th>Alpha1</th>\n",
       "      <th>Alpha2</th>\n",
       "      <th>Beta1</th>\n",
       "      <th>Beta2</th>\n",
       "      <th>Gamma1</th>\n",
       "      <th>Gamma2</th>\n",
       "      <th>Attention</th>\n",
       "      <th>Meditation</th>\n",
       "      <th>Derived</th>\n",
       "      <th>totPwr</th>\n",
       "      <th>class</th>\n",
       "    </tr>\n",
       "  </thead>\n",
       "  <tbody>\n",
       "    <tr>\n",
       "      <th>0</th>\n",
       "      <td>1</td>\n",
       "      <td>2.03</td>\n",
       "      <td>123728</td>\n",
       "      <td>86624</td>\n",
       "      <td>30076</td>\n",
       "      <td>6889</td>\n",
       "      <td>12669</td>\n",
       "      <td>154182</td>\n",
       "      <td>32786</td>\n",
       "      <td>806</td>\n",
       "      <td>48</td>\n",
       "      <td>57</td>\n",
       "      <td>NaN</td>\n",
       "      <td>447760</td>\n",
       "      <td>*</td>\n",
       "    </tr>\n",
       "    <tr>\n",
       "      <th>1</th>\n",
       "      <td>2</td>\n",
       "      <td>3.03</td>\n",
       "      <td>431663</td>\n",
       "      <td>48516</td>\n",
       "      <td>12722</td>\n",
       "      <td>3414</td>\n",
       "      <td>10119</td>\n",
       "      <td>37473</td>\n",
       "      <td>22075</td>\n",
       "      <td>2631</td>\n",
       "      <td>53</td>\n",
       "      <td>50</td>\n",
       "      <td>NaN</td>\n",
       "      <td>568613</td>\n",
       "      <td>*</td>\n",
       "    </tr>\n",
       "    <tr>\n",
       "      <th>2</th>\n",
       "      <td>3</td>\n",
       "      <td>5.03</td>\n",
       "      <td>11843</td>\n",
       "      <td>35751</td>\n",
       "      <td>2586</td>\n",
       "      <td>3815</td>\n",
       "      <td>6226</td>\n",
       "      <td>43594</td>\n",
       "      <td>3721</td>\n",
       "      <td>973</td>\n",
       "      <td>51</td>\n",
       "      <td>40</td>\n",
       "      <td>NaN</td>\n",
       "      <td>108509</td>\n",
       "      <td>*</td>\n",
       "    </tr>\n",
       "    <tr>\n",
       "      <th>3</th>\n",
       "      <td>4</td>\n",
       "      <td>6.03</td>\n",
       "      <td>1399707</td>\n",
       "      <td>43544</td>\n",
       "      <td>26819</td>\n",
       "      <td>10892</td>\n",
       "      <td>21504</td>\n",
       "      <td>19780</td>\n",
       "      <td>24818</td>\n",
       "      <td>8966</td>\n",
       "      <td>38</td>\n",
       "      <td>41</td>\n",
       "      <td>NaN</td>\n",
       "      <td>1556030</td>\n",
       "      <td>*</td>\n",
       "    </tr>\n",
       "    <tr>\n",
       "      <th>4</th>\n",
       "      <td>5</td>\n",
       "      <td>7.03</td>\n",
       "      <td>62033</td>\n",
       "      <td>12744</td>\n",
       "      <td>2079</td>\n",
       "      <td>3050</td>\n",
       "      <td>9893</td>\n",
       "      <td>26054</td>\n",
       "      <td>6696</td>\n",
       "      <td>3822</td>\n",
       "      <td>43</td>\n",
       "      <td>38</td>\n",
       "      <td>NaN</td>\n",
       "      <td>126371</td>\n",
       "      <td>*</td>\n",
       "    </tr>\n",
       "    <tr>\n",
       "      <th>...</th>\n",
       "      <td>...</td>\n",
       "      <td>...</td>\n",
       "      <td>...</td>\n",
       "      <td>...</td>\n",
       "      <td>...</td>\n",
       "      <td>...</td>\n",
       "      <td>...</td>\n",
       "      <td>...</td>\n",
       "      <td>...</td>\n",
       "      <td>...</td>\n",
       "      <td>...</td>\n",
       "      <td>...</td>\n",
       "      <td>...</td>\n",
       "      <td>...</td>\n",
       "      <td>...</td>\n",
       "    </tr>\n",
       "    <tr>\n",
       "      <th>79</th>\n",
       "      <td>80</td>\n",
       "      <td>99.09.00</td>\n",
       "      <td>25681</td>\n",
       "      <td>1287</td>\n",
       "      <td>10182</td>\n",
       "      <td>4446</td>\n",
       "      <td>8486</td>\n",
       "      <td>19274</td>\n",
       "      <td>11686</td>\n",
       "      <td>2141</td>\n",
       "      <td>63</td>\n",
       "      <td>40</td>\n",
       "      <td>NaN</td>\n",
       "      <td>83183</td>\n",
       "      <td>4</td>\n",
       "    </tr>\n",
       "    <tr>\n",
       "      <th>80</th>\n",
       "      <td>81</td>\n",
       "      <td>100.09.00</td>\n",
       "      <td>28064</td>\n",
       "      <td>27285</td>\n",
       "      <td>15540</td>\n",
       "      <td>8301</td>\n",
       "      <td>4089</td>\n",
       "      <td>77043</td>\n",
       "      <td>104435</td>\n",
       "      <td>3483</td>\n",
       "      <td>57</td>\n",
       "      <td>54</td>\n",
       "      <td>NaN</td>\n",
       "      <td>268240</td>\n",
       "      <td>4</td>\n",
       "    </tr>\n",
       "    <tr>\n",
       "      <th>81</th>\n",
       "      <td>82</td>\n",
       "      <td>101.09.00</td>\n",
       "      <td>26487</td>\n",
       "      <td>70001</td>\n",
       "      <td>59765</td>\n",
       "      <td>27656</td>\n",
       "      <td>4236</td>\n",
       "      <td>127071</td>\n",
       "      <td>11708</td>\n",
       "      <td>6780</td>\n",
       "      <td>60</td>\n",
       "      <td>66</td>\n",
       "      <td>NaN</td>\n",
       "      <td>333704</td>\n",
       "      <td>4</td>\n",
       "    </tr>\n",
       "    <tr>\n",
       "      <th>82</th>\n",
       "      <td>83</td>\n",
       "      <td>102.09.00</td>\n",
       "      <td>1930055</td>\n",
       "      <td>341358</td>\n",
       "      <td>75824</td>\n",
       "      <td>86738</td>\n",
       "      <td>18911</td>\n",
       "      <td>15118</td>\n",
       "      <td>3475</td>\n",
       "      <td>3307</td>\n",
       "      <td>41</td>\n",
       "      <td>67</td>\n",
       "      <td>NaN</td>\n",
       "      <td>2474786</td>\n",
       "      <td>4</td>\n",
       "    </tr>\n",
       "    <tr>\n",
       "      <th>83</th>\n",
       "      <td>84</td>\n",
       "      <td>102.09.00</td>\n",
       "      <td>52605</td>\n",
       "      <td>29289</td>\n",
       "      <td>22214</td>\n",
       "      <td>6917</td>\n",
       "      <td>6423</td>\n",
       "      <td>12100</td>\n",
       "      <td>9698</td>\n",
       "      <td>3261</td>\n",
       "      <td>29</td>\n",
       "      <td>70</td>\n",
       "      <td>NaN</td>\n",
       "      <td>142507</td>\n",
       "      <td>4</td>\n",
       "    </tr>\n",
       "  </tbody>\n",
       "</table>\n",
       "<p>84 rows × 15 columns</p>\n",
       "</div>"
      ],
      "text/plain": [
       "    obs       time    Delta   Theta  Alpha1  Alpha2  Beta1   Beta2  Gamma1  \\\n",
       "0     1       2.03   123728   86624   30076    6889  12669  154182   32786   \n",
       "1     2       3.03   431663   48516   12722    3414  10119   37473   22075   \n",
       "2     3       5.03    11843   35751    2586    3815   6226   43594    3721   \n",
       "3     4       6.03  1399707   43544   26819   10892  21504   19780   24818   \n",
       "4     5       7.03    62033   12744    2079    3050   9893   26054    6696   \n",
       "..  ...        ...      ...     ...     ...     ...    ...     ...     ...   \n",
       "79   80   99.09.00    25681    1287   10182    4446   8486   19274   11686   \n",
       "80   81  100.09.00    28064   27285   15540    8301   4089   77043  104435   \n",
       "81   82  101.09.00    26487   70001   59765   27656   4236  127071   11708   \n",
       "82   83  102.09.00  1930055  341358   75824   86738  18911   15118    3475   \n",
       "83   84  102.09.00    52605   29289   22214    6917   6423   12100    9698   \n",
       "\n",
       "    Gamma2  Attention  Meditation  Derived   totPwr class   \n",
       "0      806         48          57      NaN   447760      *  \n",
       "1     2631         53          50      NaN   568613      *  \n",
       "2      973         51          40      NaN   108509      *  \n",
       "3     8966         38          41      NaN  1556030      *  \n",
       "4     3822         43          38      NaN   126371      *  \n",
       "..     ...        ...         ...      ...      ...    ...  \n",
       "79    2141         63          40      NaN    83183      4  \n",
       "80    3483         57          54      NaN   268240      4  \n",
       "81    6780         60          66      NaN   333704      4  \n",
       "82    3307         41          67      NaN  2474786      4  \n",
       "83    3261         29          70      NaN   142507      4  \n",
       "\n",
       "[84 rows x 15 columns]"
      ]
     },
     "metadata": {},
     "output_type": "display_data"
    }
   ],
   "source": [
    "import pandas as pd\n",
    "\n",
    "path='data/AndiLow.csv'\n",
    "# mengubah format ; menjadi rapi\n",
    "data_mentah=pd.read_csv(path)\n",
    "\n",
    "\n",
    "display(data_mentah)\n",
    "\n",
    "# path1='data/AditHigh.csv'\n",
    "# path2='data/JulLow.csv'\n",
    "# path3='data/AndiLow.csv'\n",
    "# x=pd.read_csv(path1)\n",
    "# y=pd.read_csv(path2)\n",
    "# z=pd.read_csv(path3)\n",
    "# display(x)\n",
    "# display(y)\n",
    "# display(z)\n"
   ]
  },
  {
   "attachments": {},
   "cell_type": "markdown",
   "metadata": {},
   "source": [
    "# Menambahkan atribut A, B dan G"
   ]
  },
  {
   "cell_type": "code",
   "execution_count": 51,
   "metadata": {},
   "outputs": [
    {
     "data": {
      "text/html": [
       "<div>\n",
       "<style scoped>\n",
       "    .dataframe tbody tr th:only-of-type {\n",
       "        vertical-align: middle;\n",
       "    }\n",
       "\n",
       "    .dataframe tbody tr th {\n",
       "        vertical-align: top;\n",
       "    }\n",
       "\n",
       "    .dataframe thead th {\n",
       "        text-align: right;\n",
       "    }\n",
       "</style>\n",
       "<table border=\"1\" class=\"dataframe\">\n",
       "  <thead>\n",
       "    <tr style=\"text-align: right;\">\n",
       "      <th></th>\n",
       "      <th>obs</th>\n",
       "      <th>time</th>\n",
       "      <th>Delta</th>\n",
       "      <th>Theta</th>\n",
       "      <th>Alpha1</th>\n",
       "      <th>Alpha2</th>\n",
       "      <th>Beta1</th>\n",
       "      <th>Beta2</th>\n",
       "      <th>Gamma1</th>\n",
       "      <th>Gamma2</th>\n",
       "      <th>Attention</th>\n",
       "      <th>Meditation</th>\n",
       "      <th>Derived</th>\n",
       "      <th>totPwr</th>\n",
       "      <th>class</th>\n",
       "      <th>A</th>\n",
       "      <th>B</th>\n",
       "      <th>G</th>\n",
       "    </tr>\n",
       "  </thead>\n",
       "  <tbody>\n",
       "    <tr>\n",
       "      <th>0</th>\n",
       "      <td>1</td>\n",
       "      <td>2.03</td>\n",
       "      <td>123728</td>\n",
       "      <td>86624</td>\n",
       "      <td>30076</td>\n",
       "      <td>6889</td>\n",
       "      <td>12669</td>\n",
       "      <td>154182</td>\n",
       "      <td>32786</td>\n",
       "      <td>806</td>\n",
       "      <td>48</td>\n",
       "      <td>57</td>\n",
       "      <td>NaN</td>\n",
       "      <td>447760</td>\n",
       "      <td>*</td>\n",
       "      <td>18482.5</td>\n",
       "      <td>83425.5</td>\n",
       "      <td>16796.0</td>\n",
       "    </tr>\n",
       "    <tr>\n",
       "      <th>1</th>\n",
       "      <td>2</td>\n",
       "      <td>3.03</td>\n",
       "      <td>431663</td>\n",
       "      <td>48516</td>\n",
       "      <td>12722</td>\n",
       "      <td>3414</td>\n",
       "      <td>10119</td>\n",
       "      <td>37473</td>\n",
       "      <td>22075</td>\n",
       "      <td>2631</td>\n",
       "      <td>53</td>\n",
       "      <td>50</td>\n",
       "      <td>NaN</td>\n",
       "      <td>568613</td>\n",
       "      <td>*</td>\n",
       "      <td>8068.0</td>\n",
       "      <td>23796.0</td>\n",
       "      <td>12353.0</td>\n",
       "    </tr>\n",
       "    <tr>\n",
       "      <th>2</th>\n",
       "      <td>3</td>\n",
       "      <td>5.03</td>\n",
       "      <td>11843</td>\n",
       "      <td>35751</td>\n",
       "      <td>2586</td>\n",
       "      <td>3815</td>\n",
       "      <td>6226</td>\n",
       "      <td>43594</td>\n",
       "      <td>3721</td>\n",
       "      <td>973</td>\n",
       "      <td>51</td>\n",
       "      <td>40</td>\n",
       "      <td>NaN</td>\n",
       "      <td>108509</td>\n",
       "      <td>*</td>\n",
       "      <td>3200.5</td>\n",
       "      <td>24910.0</td>\n",
       "      <td>2347.0</td>\n",
       "    </tr>\n",
       "    <tr>\n",
       "      <th>3</th>\n",
       "      <td>4</td>\n",
       "      <td>6.03</td>\n",
       "      <td>1399707</td>\n",
       "      <td>43544</td>\n",
       "      <td>26819</td>\n",
       "      <td>10892</td>\n",
       "      <td>21504</td>\n",
       "      <td>19780</td>\n",
       "      <td>24818</td>\n",
       "      <td>8966</td>\n",
       "      <td>38</td>\n",
       "      <td>41</td>\n",
       "      <td>NaN</td>\n",
       "      <td>1556030</td>\n",
       "      <td>*</td>\n",
       "      <td>18855.5</td>\n",
       "      <td>20642.0</td>\n",
       "      <td>16892.0</td>\n",
       "    </tr>\n",
       "    <tr>\n",
       "      <th>4</th>\n",
       "      <td>5</td>\n",
       "      <td>7.03</td>\n",
       "      <td>62033</td>\n",
       "      <td>12744</td>\n",
       "      <td>2079</td>\n",
       "      <td>3050</td>\n",
       "      <td>9893</td>\n",
       "      <td>26054</td>\n",
       "      <td>6696</td>\n",
       "      <td>3822</td>\n",
       "      <td>43</td>\n",
       "      <td>38</td>\n",
       "      <td>NaN</td>\n",
       "      <td>126371</td>\n",
       "      <td>*</td>\n",
       "      <td>2564.5</td>\n",
       "      <td>17973.5</td>\n",
       "      <td>5259.0</td>\n",
       "    </tr>\n",
       "    <tr>\n",
       "      <th>...</th>\n",
       "      <td>...</td>\n",
       "      <td>...</td>\n",
       "      <td>...</td>\n",
       "      <td>...</td>\n",
       "      <td>...</td>\n",
       "      <td>...</td>\n",
       "      <td>...</td>\n",
       "      <td>...</td>\n",
       "      <td>...</td>\n",
       "      <td>...</td>\n",
       "      <td>...</td>\n",
       "      <td>...</td>\n",
       "      <td>...</td>\n",
       "      <td>...</td>\n",
       "      <td>...</td>\n",
       "      <td>...</td>\n",
       "      <td>...</td>\n",
       "      <td>...</td>\n",
       "    </tr>\n",
       "    <tr>\n",
       "      <th>79</th>\n",
       "      <td>80</td>\n",
       "      <td>99.09.00</td>\n",
       "      <td>25681</td>\n",
       "      <td>1287</td>\n",
       "      <td>10182</td>\n",
       "      <td>4446</td>\n",
       "      <td>8486</td>\n",
       "      <td>19274</td>\n",
       "      <td>11686</td>\n",
       "      <td>2141</td>\n",
       "      <td>63</td>\n",
       "      <td>40</td>\n",
       "      <td>NaN</td>\n",
       "      <td>83183</td>\n",
       "      <td>4</td>\n",
       "      <td>7314.0</td>\n",
       "      <td>13880.0</td>\n",
       "      <td>6913.5</td>\n",
       "    </tr>\n",
       "    <tr>\n",
       "      <th>80</th>\n",
       "      <td>81</td>\n",
       "      <td>100.09.00</td>\n",
       "      <td>28064</td>\n",
       "      <td>27285</td>\n",
       "      <td>15540</td>\n",
       "      <td>8301</td>\n",
       "      <td>4089</td>\n",
       "      <td>77043</td>\n",
       "      <td>104435</td>\n",
       "      <td>3483</td>\n",
       "      <td>57</td>\n",
       "      <td>54</td>\n",
       "      <td>NaN</td>\n",
       "      <td>268240</td>\n",
       "      <td>4</td>\n",
       "      <td>11920.5</td>\n",
       "      <td>40566.0</td>\n",
       "      <td>53959.0</td>\n",
       "    </tr>\n",
       "    <tr>\n",
       "      <th>81</th>\n",
       "      <td>82</td>\n",
       "      <td>101.09.00</td>\n",
       "      <td>26487</td>\n",
       "      <td>70001</td>\n",
       "      <td>59765</td>\n",
       "      <td>27656</td>\n",
       "      <td>4236</td>\n",
       "      <td>127071</td>\n",
       "      <td>11708</td>\n",
       "      <td>6780</td>\n",
       "      <td>60</td>\n",
       "      <td>66</td>\n",
       "      <td>NaN</td>\n",
       "      <td>333704</td>\n",
       "      <td>4</td>\n",
       "      <td>43710.5</td>\n",
       "      <td>65653.5</td>\n",
       "      <td>9244.0</td>\n",
       "    </tr>\n",
       "    <tr>\n",
       "      <th>82</th>\n",
       "      <td>83</td>\n",
       "      <td>102.09.00</td>\n",
       "      <td>1930055</td>\n",
       "      <td>341358</td>\n",
       "      <td>75824</td>\n",
       "      <td>86738</td>\n",
       "      <td>18911</td>\n",
       "      <td>15118</td>\n",
       "      <td>3475</td>\n",
       "      <td>3307</td>\n",
       "      <td>41</td>\n",
       "      <td>67</td>\n",
       "      <td>NaN</td>\n",
       "      <td>2474786</td>\n",
       "      <td>4</td>\n",
       "      <td>81281.0</td>\n",
       "      <td>17014.5</td>\n",
       "      <td>3391.0</td>\n",
       "    </tr>\n",
       "    <tr>\n",
       "      <th>83</th>\n",
       "      <td>84</td>\n",
       "      <td>102.09.00</td>\n",
       "      <td>52605</td>\n",
       "      <td>29289</td>\n",
       "      <td>22214</td>\n",
       "      <td>6917</td>\n",
       "      <td>6423</td>\n",
       "      <td>12100</td>\n",
       "      <td>9698</td>\n",
       "      <td>3261</td>\n",
       "      <td>29</td>\n",
       "      <td>70</td>\n",
       "      <td>NaN</td>\n",
       "      <td>142507</td>\n",
       "      <td>4</td>\n",
       "      <td>14565.5</td>\n",
       "      <td>9261.5</td>\n",
       "      <td>6479.5</td>\n",
       "    </tr>\n",
       "  </tbody>\n",
       "</table>\n",
       "<p>84 rows × 18 columns</p>\n",
       "</div>"
      ],
      "text/plain": [
       "    obs       time    Delta   Theta  Alpha1  Alpha2  Beta1   Beta2  Gamma1  \\\n",
       "0     1       2.03   123728   86624   30076    6889  12669  154182   32786   \n",
       "1     2       3.03   431663   48516   12722    3414  10119   37473   22075   \n",
       "2     3       5.03    11843   35751    2586    3815   6226   43594    3721   \n",
       "3     4       6.03  1399707   43544   26819   10892  21504   19780   24818   \n",
       "4     5       7.03    62033   12744    2079    3050   9893   26054    6696   \n",
       "..  ...        ...      ...     ...     ...     ...    ...     ...     ...   \n",
       "79   80   99.09.00    25681    1287   10182    4446   8486   19274   11686   \n",
       "80   81  100.09.00    28064   27285   15540    8301   4089   77043  104435   \n",
       "81   82  101.09.00    26487   70001   59765   27656   4236  127071   11708   \n",
       "82   83  102.09.00  1930055  341358   75824   86738  18911   15118    3475   \n",
       "83   84  102.09.00    52605   29289   22214    6917   6423   12100    9698   \n",
       "\n",
       "    Gamma2  Attention  Meditation  Derived   totPwr class         A        B  \\\n",
       "0      806         48          57      NaN   447760      *  18482.5  83425.5   \n",
       "1     2631         53          50      NaN   568613      *   8068.0  23796.0   \n",
       "2      973         51          40      NaN   108509      *   3200.5  24910.0   \n",
       "3     8966         38          41      NaN  1556030      *  18855.5  20642.0   \n",
       "4     3822         43          38      NaN   126371      *   2564.5  17973.5   \n",
       "..     ...        ...         ...      ...      ...    ...      ...      ...   \n",
       "79    2141         63          40      NaN    83183      4   7314.0  13880.0   \n",
       "80    3483         57          54      NaN   268240      4  11920.5  40566.0   \n",
       "81    6780         60          66      NaN   333704      4  43710.5  65653.5   \n",
       "82    3307         41          67      NaN  2474786      4  81281.0  17014.5   \n",
       "83    3261         29          70      NaN   142507      4  14565.5   9261.5   \n",
       "\n",
       "          G  \n",
       "0   16796.0  \n",
       "1   12353.0  \n",
       "2    2347.0  \n",
       "3   16892.0  \n",
       "4    5259.0  \n",
       "..      ...  \n",
       "79   6913.5  \n",
       "80  53959.0  \n",
       "81   9244.0  \n",
       "82   3391.0  \n",
       "83   6479.5  \n",
       "\n",
       "[84 rows x 18 columns]"
      ]
     },
     "metadata": {},
     "output_type": "display_data"
    }
   ],
   "source": [
    "# Atribut A, B dan G didapat dari rata-rata gelombang Alpha beta dan Gamma\n",
    "\n",
    "def atribut_gelombang(data_mentah):\n",
    "    data_mentah['A']=(data_mentah['Alpha1']+data_mentah['Alpha2'])/2\n",
    "    data_mentah['B']=(data_mentah['Beta1']+data_mentah['Beta2'])/2\n",
    "    data_mentah['G']=(data_mentah['Gamma1']+data_mentah['Gamma2'])/2\n",
    "    return data_mentah\n",
    "\n",
    "display(atribut_gelombang(data_mentah))\n",
    "\n",
    "# a=atribut_gelombang(x)\n",
    "# b=atribut_gelombang(y)\n",
    "# c=atribut_gelombang(z)\n",
    "\n",
    "# display(x)\n",
    "# display(y)\n",
    "# display(z)\n"
   ]
  },
  {
   "attachments": {},
   "cell_type": "markdown",
   "metadata": {},
   "source": [
    "# Normalisasi"
   ]
  },
  {
   "cell_type": "code",
   "execution_count": 52,
   "metadata": {},
   "outputs": [
    {
     "data": {
      "text/html": [
       "<div>\n",
       "<style scoped>\n",
       "    .dataframe tbody tr th:only-of-type {\n",
       "        vertical-align: middle;\n",
       "    }\n",
       "\n",
       "    .dataframe tbody tr th {\n",
       "        vertical-align: top;\n",
       "    }\n",
       "\n",
       "    .dataframe thead th {\n",
       "        text-align: right;\n",
       "    }\n",
       "</style>\n",
       "<table border=\"1\" class=\"dataframe\">\n",
       "  <thead>\n",
       "    <tr style=\"text-align: right;\">\n",
       "      <th></th>\n",
       "      <th>obs</th>\n",
       "      <th>time</th>\n",
       "      <th>Delta</th>\n",
       "      <th>Theta</th>\n",
       "      <th>Alpha1</th>\n",
       "      <th>Alpha2</th>\n",
       "      <th>Beta1</th>\n",
       "      <th>Beta2</th>\n",
       "      <th>Gamma1</th>\n",
       "      <th>Gamma2</th>\n",
       "      <th>...</th>\n",
       "      <th>Meditation</th>\n",
       "      <th>Derived</th>\n",
       "      <th>totPwr</th>\n",
       "      <th>class</th>\n",
       "      <th>A</th>\n",
       "      <th>B</th>\n",
       "      <th>G</th>\n",
       "      <th>An</th>\n",
       "      <th>Bn</th>\n",
       "      <th>Gn</th>\n",
       "    </tr>\n",
       "  </thead>\n",
       "  <tbody>\n",
       "    <tr>\n",
       "      <th>0</th>\n",
       "      <td>1</td>\n",
       "      <td>2.03</td>\n",
       "      <td>123728</td>\n",
       "      <td>86624</td>\n",
       "      <td>30076</td>\n",
       "      <td>6889</td>\n",
       "      <td>12669</td>\n",
       "      <td>154182</td>\n",
       "      <td>32786</td>\n",
       "      <td>806</td>\n",
       "      <td>...</td>\n",
       "      <td>57</td>\n",
       "      <td>NaN</td>\n",
       "      <td>447760</td>\n",
       "      <td>*</td>\n",
       "      <td>18482.5</td>\n",
       "      <td>83425.5</td>\n",
       "      <td>16796.0</td>\n",
       "      <td>0.632463</td>\n",
       "      <td>0.980296</td>\n",
       "      <td>0.521667</td>\n",
       "    </tr>\n",
       "    <tr>\n",
       "      <th>1</th>\n",
       "      <td>2</td>\n",
       "      <td>3.03</td>\n",
       "      <td>431663</td>\n",
       "      <td>48516</td>\n",
       "      <td>12722</td>\n",
       "      <td>3414</td>\n",
       "      <td>10119</td>\n",
       "      <td>37473</td>\n",
       "      <td>22075</td>\n",
       "      <td>2631</td>\n",
       "      <td>...</td>\n",
       "      <td>50</td>\n",
       "      <td>NaN</td>\n",
       "      <td>568613</td>\n",
       "      <td>*</td>\n",
       "      <td>8068.0</td>\n",
       "      <td>23796.0</td>\n",
       "      <td>12353.0</td>\n",
       "      <td>0.235931</td>\n",
       "      <td>0.254576</td>\n",
       "      <td>0.371485</td>\n",
       "    </tr>\n",
       "    <tr>\n",
       "      <th>2</th>\n",
       "      <td>3</td>\n",
       "      <td>5.03</td>\n",
       "      <td>11843</td>\n",
       "      <td>35751</td>\n",
       "      <td>2586</td>\n",
       "      <td>3815</td>\n",
       "      <td>6226</td>\n",
       "      <td>43594</td>\n",
       "      <td>3721</td>\n",
       "      <td>973</td>\n",
       "      <td>...</td>\n",
       "      <td>40</td>\n",
       "      <td>NaN</td>\n",
       "      <td>108509</td>\n",
       "      <td>*</td>\n",
       "      <td>3200.5</td>\n",
       "      <td>24910.0</td>\n",
       "      <td>2347.0</td>\n",
       "      <td>0.050602</td>\n",
       "      <td>0.268134</td>\n",
       "      <td>0.033261</td>\n",
       "    </tr>\n",
       "    <tr>\n",
       "      <th>3</th>\n",
       "      <td>4</td>\n",
       "      <td>6.03</td>\n",
       "      <td>1399707</td>\n",
       "      <td>43544</td>\n",
       "      <td>26819</td>\n",
       "      <td>10892</td>\n",
       "      <td>21504</td>\n",
       "      <td>19780</td>\n",
       "      <td>24818</td>\n",
       "      <td>8966</td>\n",
       "      <td>...</td>\n",
       "      <td>41</td>\n",
       "      <td>NaN</td>\n",
       "      <td>1556030</td>\n",
       "      <td>*</td>\n",
       "      <td>18855.5</td>\n",
       "      <td>20642.0</td>\n",
       "      <td>16892.0</td>\n",
       "      <td>0.646665</td>\n",
       "      <td>0.216190</td>\n",
       "      <td>0.524912</td>\n",
       "    </tr>\n",
       "    <tr>\n",
       "      <th>4</th>\n",
       "      <td>5</td>\n",
       "      <td>7.03</td>\n",
       "      <td>62033</td>\n",
       "      <td>12744</td>\n",
       "      <td>2079</td>\n",
       "      <td>3050</td>\n",
       "      <td>9893</td>\n",
       "      <td>26054</td>\n",
       "      <td>6696</td>\n",
       "      <td>3822</td>\n",
       "      <td>...</td>\n",
       "      <td>38</td>\n",
       "      <td>NaN</td>\n",
       "      <td>126371</td>\n",
       "      <td>*</td>\n",
       "      <td>2564.5</td>\n",
       "      <td>17973.5</td>\n",
       "      <td>5259.0</td>\n",
       "      <td>0.026386</td>\n",
       "      <td>0.183713</td>\n",
       "      <td>0.131693</td>\n",
       "    </tr>\n",
       "    <tr>\n",
       "      <th>...</th>\n",
       "      <td>...</td>\n",
       "      <td>...</td>\n",
       "      <td>...</td>\n",
       "      <td>...</td>\n",
       "      <td>...</td>\n",
       "      <td>...</td>\n",
       "      <td>...</td>\n",
       "      <td>...</td>\n",
       "      <td>...</td>\n",
       "      <td>...</td>\n",
       "      <td>...</td>\n",
       "      <td>...</td>\n",
       "      <td>...</td>\n",
       "      <td>...</td>\n",
       "      <td>...</td>\n",
       "      <td>...</td>\n",
       "      <td>...</td>\n",
       "      <td>...</td>\n",
       "      <td>...</td>\n",
       "      <td>...</td>\n",
       "      <td>...</td>\n",
       "    </tr>\n",
       "    <tr>\n",
       "      <th>79</th>\n",
       "      <td>80</td>\n",
       "      <td>99.09.00</td>\n",
       "      <td>25681</td>\n",
       "      <td>1287</td>\n",
       "      <td>10182</td>\n",
       "      <td>4446</td>\n",
       "      <td>8486</td>\n",
       "      <td>19274</td>\n",
       "      <td>11686</td>\n",
       "      <td>2141</td>\n",
       "      <td>...</td>\n",
       "      <td>40</td>\n",
       "      <td>NaN</td>\n",
       "      <td>83183</td>\n",
       "      <td>4</td>\n",
       "      <td>7314.0</td>\n",
       "      <td>13880.0</td>\n",
       "      <td>6913.5</td>\n",
       "      <td>0.207223</td>\n",
       "      <td>0.133894</td>\n",
       "      <td>0.187618</td>\n",
       "    </tr>\n",
       "    <tr>\n",
       "      <th>80</th>\n",
       "      <td>81</td>\n",
       "      <td>100.09.00</td>\n",
       "      <td>28064</td>\n",
       "      <td>27285</td>\n",
       "      <td>15540</td>\n",
       "      <td>8301</td>\n",
       "      <td>4089</td>\n",
       "      <td>77043</td>\n",
       "      <td>104435</td>\n",
       "      <td>3483</td>\n",
       "      <td>...</td>\n",
       "      <td>54</td>\n",
       "      <td>NaN</td>\n",
       "      <td>268240</td>\n",
       "      <td>4</td>\n",
       "      <td>11920.5</td>\n",
       "      <td>40566.0</td>\n",
       "      <td>53959.0</td>\n",
       "      <td>0.382615</td>\n",
       "      <td>0.458675</td>\n",
       "      <td>1.777853</td>\n",
       "    </tr>\n",
       "    <tr>\n",
       "      <th>81</th>\n",
       "      <td>82</td>\n",
       "      <td>101.09.00</td>\n",
       "      <td>26487</td>\n",
       "      <td>70001</td>\n",
       "      <td>59765</td>\n",
       "      <td>27656</td>\n",
       "      <td>4236</td>\n",
       "      <td>127071</td>\n",
       "      <td>11708</td>\n",
       "      <td>6780</td>\n",
       "      <td>...</td>\n",
       "      <td>66</td>\n",
       "      <td>NaN</td>\n",
       "      <td>333704</td>\n",
       "      <td>4</td>\n",
       "      <td>43710.5</td>\n",
       "      <td>65653.5</td>\n",
       "      <td>9244.0</td>\n",
       "      <td>1.593017</td>\n",
       "      <td>0.764002</td>\n",
       "      <td>0.266394</td>\n",
       "    </tr>\n",
       "    <tr>\n",
       "      <th>82</th>\n",
       "      <td>83</td>\n",
       "      <td>102.09.00</td>\n",
       "      <td>1930055</td>\n",
       "      <td>341358</td>\n",
       "      <td>75824</td>\n",
       "      <td>86738</td>\n",
       "      <td>18911</td>\n",
       "      <td>15118</td>\n",
       "      <td>3475</td>\n",
       "      <td>3307</td>\n",
       "      <td>...</td>\n",
       "      <td>67</td>\n",
       "      <td>NaN</td>\n",
       "      <td>2474786</td>\n",
       "      <td>4</td>\n",
       "      <td>81281.0</td>\n",
       "      <td>17014.5</td>\n",
       "      <td>3391.0</td>\n",
       "      <td>3.023511</td>\n",
       "      <td>0.172042</td>\n",
       "      <td>0.068551</td>\n",
       "    </tr>\n",
       "    <tr>\n",
       "      <th>83</th>\n",
       "      <td>84</td>\n",
       "      <td>102.09.00</td>\n",
       "      <td>52605</td>\n",
       "      <td>29289</td>\n",
       "      <td>22214</td>\n",
       "      <td>6917</td>\n",
       "      <td>6423</td>\n",
       "      <td>12100</td>\n",
       "      <td>9698</td>\n",
       "      <td>3261</td>\n",
       "      <td>...</td>\n",
       "      <td>70</td>\n",
       "      <td>NaN</td>\n",
       "      <td>142507</td>\n",
       "      <td>4</td>\n",
       "      <td>14565.5</td>\n",
       "      <td>9261.5</td>\n",
       "      <td>6479.5</td>\n",
       "      <td>0.483323</td>\n",
       "      <td>0.077684</td>\n",
       "      <td>0.172948</td>\n",
       "    </tr>\n",
       "  </tbody>\n",
       "</table>\n",
       "<p>84 rows × 21 columns</p>\n",
       "</div>"
      ],
      "text/plain": [
       "    obs       time    Delta   Theta  Alpha1  Alpha2  Beta1   Beta2  Gamma1  \\\n",
       "0     1       2.03   123728   86624   30076    6889  12669  154182   32786   \n",
       "1     2       3.03   431663   48516   12722    3414  10119   37473   22075   \n",
       "2     3       5.03    11843   35751    2586    3815   6226   43594    3721   \n",
       "3     4       6.03  1399707   43544   26819   10892  21504   19780   24818   \n",
       "4     5       7.03    62033   12744    2079    3050   9893   26054    6696   \n",
       "..  ...        ...      ...     ...     ...     ...    ...     ...     ...   \n",
       "79   80   99.09.00    25681    1287   10182    4446   8486   19274   11686   \n",
       "80   81  100.09.00    28064   27285   15540    8301   4089   77043  104435   \n",
       "81   82  101.09.00    26487   70001   59765   27656   4236  127071   11708   \n",
       "82   83  102.09.00  1930055  341358   75824   86738  18911   15118    3475   \n",
       "83   84  102.09.00    52605   29289   22214    6917   6423   12100    9698   \n",
       "\n",
       "    Gamma2  ...  Meditation  Derived   totPwr  class         A        B  \\\n",
       "0      806  ...          57      NaN   447760       *  18482.5  83425.5   \n",
       "1     2631  ...          50      NaN   568613       *   8068.0  23796.0   \n",
       "2      973  ...          40      NaN   108509       *   3200.5  24910.0   \n",
       "3     8966  ...          41      NaN  1556030       *  18855.5  20642.0   \n",
       "4     3822  ...          38      NaN   126371       *   2564.5  17973.5   \n",
       "..     ...  ...         ...      ...      ...     ...      ...      ...   \n",
       "79    2141  ...          40      NaN    83183       4   7314.0  13880.0   \n",
       "80    3483  ...          54      NaN   268240       4  11920.5  40566.0   \n",
       "81    6780  ...          66      NaN   333704       4  43710.5  65653.5   \n",
       "82    3307  ...          67      NaN  2474786       4  81281.0  17014.5   \n",
       "83    3261  ...          70      NaN   142507       4  14565.5   9261.5   \n",
       "\n",
       "          G        An        Bn        Gn  \n",
       "0   16796.0  0.632463  0.980296  0.521667  \n",
       "1   12353.0  0.235931  0.254576  0.371485  \n",
       "2    2347.0  0.050602  0.268134  0.033261  \n",
       "3   16892.0  0.646665  0.216190  0.524912  \n",
       "4    5259.0  0.026386  0.183713  0.131693  \n",
       "..      ...       ...       ...       ...  \n",
       "79   6913.5  0.207223  0.133894  0.187618  \n",
       "80  53959.0  0.382615  0.458675  1.777853  \n",
       "81   9244.0  1.593017  0.764002  0.266394  \n",
       "82   3391.0  3.023511  0.172042  0.068551  \n",
       "83   6479.5  0.483323  0.077684  0.172948  \n",
       "\n",
       "[84 rows x 21 columns]"
      ]
     },
     "metadata": {},
     "output_type": "display_data"
    }
   ],
   "source": [
    "\n",
    "def normalisasi(data_mentah):\n",
    "\n",
    "# membatasi data ke 11 hingga ke 70\n",
    "    filter_data= data_mentah.loc[10:69]\n",
    "\n",
    "    # Dari gelombang Alpha\n",
    "    min_A=filter_data['A'].min()\n",
    "    max_A=filter_data['A'].max()\n",
    "\n",
    "    # Dari gelombang Beta\n",
    "    min_B=filter_data['B'].min()\n",
    "    max_B=filter_data['B'].max()\n",
    "\n",
    "    # Dari gelombang Gamma\n",
    "    min_G=filter_data['G'].min()\n",
    "    max_G=filter_data['G'].max()\n",
    "\n",
    "    data_mentah['An']=(data_mentah['A']-min_A)/(max_A-min_A)\n",
    "    data_mentah['Bn']=(data_mentah['B']-min_B)/(max_B-min_B)\n",
    "    data_mentah['Gn']=(data_mentah['G']-min_G)/(max_G-min_G)\n",
    "    return data_mentah\n",
    "\n",
    "\n",
    "display(normalisasi(data_mentah))\n",
    "# x1=normalisasi(x)\n",
    "# y1=normalisasi(y)\n",
    "# z1=normalisasi(z)\n",
    "\n",
    "# display(x1)\n",
    "# display(y1)\n",
    "# display(z1)\n",
    "\n"
   ]
  },
  {
   "attachments": {},
   "cell_type": "markdown",
   "metadata": {},
   "source": [
    "# Transform wavelet"
   ]
  },
  {
   "cell_type": "markdown",
   "metadata": {},
   "source": [
    "## alternatif"
   ]
  },
  {
   "cell_type": "code",
   "execution_count": 53,
   "metadata": {},
   "outputs": [
    {
     "data": {
      "text/html": [
       "<div>\n",
       "<style scoped>\n",
       "    .dataframe tbody tr th:only-of-type {\n",
       "        vertical-align: middle;\n",
       "    }\n",
       "\n",
       "    .dataframe tbody tr th {\n",
       "        vertical-align: top;\n",
       "    }\n",
       "\n",
       "    .dataframe thead th {\n",
       "        text-align: right;\n",
       "    }\n",
       "</style>\n",
       "<table border=\"1\" class=\"dataframe\">\n",
       "  <thead>\n",
       "    <tr style=\"text-align: right;\">\n",
       "      <th></th>\n",
       "      <th>obs</th>\n",
       "      <th>time</th>\n",
       "      <th>Delta</th>\n",
       "      <th>Theta</th>\n",
       "      <th>Alpha1</th>\n",
       "      <th>Alpha2</th>\n",
       "      <th>Beta1</th>\n",
       "      <th>Beta2</th>\n",
       "      <th>Gamma1</th>\n",
       "      <th>Gamma2</th>\n",
       "      <th>...</th>\n",
       "      <th>A</th>\n",
       "      <th>B</th>\n",
       "      <th>G</th>\n",
       "      <th>An</th>\n",
       "      <th>Bn</th>\n",
       "      <th>Gn</th>\n",
       "      <th>Ae</th>\n",
       "      <th>Be0</th>\n",
       "      <th>Be1</th>\n",
       "      <th>Ge</th>\n",
       "    </tr>\n",
       "  </thead>\n",
       "  <tbody>\n",
       "    <tr>\n",
       "      <th>0</th>\n",
       "      <td>1</td>\n",
       "      <td>2.03</td>\n",
       "      <td>123728</td>\n",
       "      <td>86624</td>\n",
       "      <td>30076</td>\n",
       "      <td>6889</td>\n",
       "      <td>12669</td>\n",
       "      <td>154182</td>\n",
       "      <td>32786</td>\n",
       "      <td>806</td>\n",
       "      <td>...</td>\n",
       "      <td>18482.5</td>\n",
       "      <td>83425.5</td>\n",
       "      <td>16796.0</td>\n",
       "      <td>0.632463</td>\n",
       "      <td>0.980296</td>\n",
       "      <td>0.521667</td>\n",
       "      <td>3.577749</td>\n",
       "      <td>3.921184</td>\n",
       "      <td>5.545392</td>\n",
       "      <td>1.475497</td>\n",
       "    </tr>\n",
       "    <tr>\n",
       "      <th>1</th>\n",
       "      <td>2</td>\n",
       "      <td>3.03</td>\n",
       "      <td>431663</td>\n",
       "      <td>48516</td>\n",
       "      <td>12722</td>\n",
       "      <td>3414</td>\n",
       "      <td>10119</td>\n",
       "      <td>37473</td>\n",
       "      <td>22075</td>\n",
       "      <td>2631</td>\n",
       "      <td>...</td>\n",
       "      <td>8068.0</td>\n",
       "      <td>23796.0</td>\n",
       "      <td>12353.0</td>\n",
       "      <td>0.235931</td>\n",
       "      <td>0.254576</td>\n",
       "      <td>0.371485</td>\n",
       "      <td>1.334629</td>\n",
       "      <td>1.018304</td>\n",
       "      <td>1.440100</td>\n",
       "      <td>1.050717</td>\n",
       "    </tr>\n",
       "    <tr>\n",
       "      <th>2</th>\n",
       "      <td>3</td>\n",
       "      <td>5.03</td>\n",
       "      <td>11843</td>\n",
       "      <td>35751</td>\n",
       "      <td>2586</td>\n",
       "      <td>3815</td>\n",
       "      <td>6226</td>\n",
       "      <td>43594</td>\n",
       "      <td>3721</td>\n",
       "      <td>973</td>\n",
       "      <td>...</td>\n",
       "      <td>3200.5</td>\n",
       "      <td>24910.0</td>\n",
       "      <td>2347.0</td>\n",
       "      <td>0.050602</td>\n",
       "      <td>0.268134</td>\n",
       "      <td>0.033261</td>\n",
       "      <td>0.286246</td>\n",
       "      <td>1.072536</td>\n",
       "      <td>1.516795</td>\n",
       "      <td>0.094077</td>\n",
       "    </tr>\n",
       "    <tr>\n",
       "      <th>3</th>\n",
       "      <td>4</td>\n",
       "      <td>6.03</td>\n",
       "      <td>1399707</td>\n",
       "      <td>43544</td>\n",
       "      <td>26819</td>\n",
       "      <td>10892</td>\n",
       "      <td>21504</td>\n",
       "      <td>19780</td>\n",
       "      <td>24818</td>\n",
       "      <td>8966</td>\n",
       "      <td>...</td>\n",
       "      <td>18855.5</td>\n",
       "      <td>20642.0</td>\n",
       "      <td>16892.0</td>\n",
       "      <td>0.646665</td>\n",
       "      <td>0.216190</td>\n",
       "      <td>0.524912</td>\n",
       "      <td>3.658088</td>\n",
       "      <td>0.864762</td>\n",
       "      <td>1.222958</td>\n",
       "      <td>1.484676</td>\n",
       "    </tr>\n",
       "    <tr>\n",
       "      <th>4</th>\n",
       "      <td>5</td>\n",
       "      <td>7.03</td>\n",
       "      <td>62033</td>\n",
       "      <td>12744</td>\n",
       "      <td>2079</td>\n",
       "      <td>3050</td>\n",
       "      <td>9893</td>\n",
       "      <td>26054</td>\n",
       "      <td>6696</td>\n",
       "      <td>3822</td>\n",
       "      <td>...</td>\n",
       "      <td>2564.5</td>\n",
       "      <td>17973.5</td>\n",
       "      <td>5259.0</td>\n",
       "      <td>0.026386</td>\n",
       "      <td>0.183713</td>\n",
       "      <td>0.131693</td>\n",
       "      <td>0.149261</td>\n",
       "      <td>0.734854</td>\n",
       "      <td>1.039240</td>\n",
       "      <td>0.372484</td>\n",
       "    </tr>\n",
       "    <tr>\n",
       "      <th>...</th>\n",
       "      <td>...</td>\n",
       "      <td>...</td>\n",
       "      <td>...</td>\n",
       "      <td>...</td>\n",
       "      <td>...</td>\n",
       "      <td>...</td>\n",
       "      <td>...</td>\n",
       "      <td>...</td>\n",
       "      <td>...</td>\n",
       "      <td>...</td>\n",
       "      <td>...</td>\n",
       "      <td>...</td>\n",
       "      <td>...</td>\n",
       "      <td>...</td>\n",
       "      <td>...</td>\n",
       "      <td>...</td>\n",
       "      <td>...</td>\n",
       "      <td>...</td>\n",
       "      <td>...</td>\n",
       "      <td>...</td>\n",
       "      <td>...</td>\n",
       "    </tr>\n",
       "    <tr>\n",
       "      <th>79</th>\n",
       "      <td>80</td>\n",
       "      <td>99.09.00</td>\n",
       "      <td>25681</td>\n",
       "      <td>1287</td>\n",
       "      <td>10182</td>\n",
       "      <td>4446</td>\n",
       "      <td>8486</td>\n",
       "      <td>19274</td>\n",
       "      <td>11686</td>\n",
       "      <td>2141</td>\n",
       "      <td>...</td>\n",
       "      <td>7314.0</td>\n",
       "      <td>13880.0</td>\n",
       "      <td>6913.5</td>\n",
       "      <td>0.207223</td>\n",
       "      <td>0.133894</td>\n",
       "      <td>0.187618</td>\n",
       "      <td>1.172229</td>\n",
       "      <td>0.535574</td>\n",
       "      <td>0.757416</td>\n",
       "      <td>0.530665</td>\n",
       "    </tr>\n",
       "    <tr>\n",
       "      <th>80</th>\n",
       "      <td>81</td>\n",
       "      <td>100.09.00</td>\n",
       "      <td>28064</td>\n",
       "      <td>27285</td>\n",
       "      <td>15540</td>\n",
       "      <td>8301</td>\n",
       "      <td>4089</td>\n",
       "      <td>77043</td>\n",
       "      <td>104435</td>\n",
       "      <td>3483</td>\n",
       "      <td>...</td>\n",
       "      <td>11920.5</td>\n",
       "      <td>40566.0</td>\n",
       "      <td>53959.0</td>\n",
       "      <td>0.382615</td>\n",
       "      <td>0.458675</td>\n",
       "      <td>1.777853</td>\n",
       "      <td>2.164397</td>\n",
       "      <td>1.834700</td>\n",
       "      <td>2.594658</td>\n",
       "      <td>5.028527</td>\n",
       "    </tr>\n",
       "    <tr>\n",
       "      <th>81</th>\n",
       "      <td>82</td>\n",
       "      <td>101.09.00</td>\n",
       "      <td>26487</td>\n",
       "      <td>70001</td>\n",
       "      <td>59765</td>\n",
       "      <td>27656</td>\n",
       "      <td>4236</td>\n",
       "      <td>127071</td>\n",
       "      <td>11708</td>\n",
       "      <td>6780</td>\n",
       "      <td>...</td>\n",
       "      <td>43710.5</td>\n",
       "      <td>65653.5</td>\n",
       "      <td>9244.0</td>\n",
       "      <td>1.593017</td>\n",
       "      <td>0.764002</td>\n",
       "      <td>0.266394</td>\n",
       "      <td>9.011465</td>\n",
       "      <td>3.056009</td>\n",
       "      <td>4.321849</td>\n",
       "      <td>0.753476</td>\n",
       "    </tr>\n",
       "    <tr>\n",
       "      <th>82</th>\n",
       "      <td>83</td>\n",
       "      <td>102.09.00</td>\n",
       "      <td>1930055</td>\n",
       "      <td>341358</td>\n",
       "      <td>75824</td>\n",
       "      <td>86738</td>\n",
       "      <td>18911</td>\n",
       "      <td>15118</td>\n",
       "      <td>3475</td>\n",
       "      <td>3307</td>\n",
       "      <td>...</td>\n",
       "      <td>81281.0</td>\n",
       "      <td>17014.5</td>\n",
       "      <td>3391.0</td>\n",
       "      <td>3.023511</td>\n",
       "      <td>0.172042</td>\n",
       "      <td>0.068551</td>\n",
       "      <td>17.103563</td>\n",
       "      <td>0.688168</td>\n",
       "      <td>0.973216</td>\n",
       "      <td>0.193890</td>\n",
       "    </tr>\n",
       "    <tr>\n",
       "      <th>83</th>\n",
       "      <td>84</td>\n",
       "      <td>102.09.00</td>\n",
       "      <td>52605</td>\n",
       "      <td>29289</td>\n",
       "      <td>22214</td>\n",
       "      <td>6917</td>\n",
       "      <td>6423</td>\n",
       "      <td>12100</td>\n",
       "      <td>9698</td>\n",
       "      <td>3261</td>\n",
       "      <td>...</td>\n",
       "      <td>14565.5</td>\n",
       "      <td>9261.5</td>\n",
       "      <td>6479.5</td>\n",
       "      <td>0.483323</td>\n",
       "      <td>0.077684</td>\n",
       "      <td>0.172948</td>\n",
       "      <td>2.734089</td>\n",
       "      <td>0.310737</td>\n",
       "      <td>0.439448</td>\n",
       "      <td>0.489171</td>\n",
       "    </tr>\n",
       "  </tbody>\n",
       "</table>\n",
       "<p>84 rows × 25 columns</p>\n",
       "</div>"
      ],
      "text/plain": [
       "    obs       time    Delta   Theta  Alpha1  Alpha2  Beta1   Beta2  Gamma1  \\\n",
       "0     1       2.03   123728   86624   30076    6889  12669  154182   32786   \n",
       "1     2       3.03   431663   48516   12722    3414  10119   37473   22075   \n",
       "2     3       5.03    11843   35751    2586    3815   6226   43594    3721   \n",
       "3     4       6.03  1399707   43544   26819   10892  21504   19780   24818   \n",
       "4     5       7.03    62033   12744    2079    3050   9893   26054    6696   \n",
       "..  ...        ...      ...     ...     ...     ...    ...     ...     ...   \n",
       "79   80   99.09.00    25681    1287   10182    4446   8486   19274   11686   \n",
       "80   81  100.09.00    28064   27285   15540    8301   4089   77043  104435   \n",
       "81   82  101.09.00    26487   70001   59765   27656   4236  127071   11708   \n",
       "82   83  102.09.00  1930055  341358   75824   86738  18911   15118    3475   \n",
       "83   84  102.09.00    52605   29289   22214    6917   6423   12100    9698   \n",
       "\n",
       "    Gamma2  ...        A        B        G        An        Bn        Gn  \\\n",
       "0      806  ...  18482.5  83425.5  16796.0  0.632463  0.980296  0.521667   \n",
       "1     2631  ...   8068.0  23796.0  12353.0  0.235931  0.254576  0.371485   \n",
       "2      973  ...   3200.5  24910.0   2347.0  0.050602  0.268134  0.033261   \n",
       "3     8966  ...  18855.5  20642.0  16892.0  0.646665  0.216190  0.524912   \n",
       "4     3822  ...   2564.5  17973.5   5259.0  0.026386  0.183713  0.131693   \n",
       "..     ...  ...      ...      ...      ...       ...       ...       ...   \n",
       "79    2141  ...   7314.0  13880.0   6913.5  0.207223  0.133894  0.187618   \n",
       "80    3483  ...  11920.5  40566.0  53959.0  0.382615  0.458675  1.777853   \n",
       "81    6780  ...  43710.5  65653.5   9244.0  1.593017  0.764002  0.266394   \n",
       "82    3307  ...  81281.0  17014.5   3391.0  3.023511  0.172042  0.068551   \n",
       "83    3261  ...  14565.5   9261.5   6479.5  0.483323  0.077684  0.172948   \n",
       "\n",
       "           Ae       Be0       Be1        Ge  \n",
       "0    3.577749  3.921184  5.545392  1.475497  \n",
       "1    1.334629  1.018304  1.440100  1.050717  \n",
       "2    0.286246  1.072536  1.516795  0.094077  \n",
       "3    3.658088  0.864762  1.222958  1.484676  \n",
       "4    0.149261  0.734854  1.039240  0.372484  \n",
       "..        ...       ...       ...       ...  \n",
       "79   1.172229  0.535574  0.757416  0.530665  \n",
       "80   2.164397  1.834700  2.594658  5.028527  \n",
       "81   9.011465  3.056009  4.321849  0.753476  \n",
       "82  17.103563  0.688168  0.973216  0.193890  \n",
       "83   2.734089  0.310737  0.439448  0.489171  \n",
       "\n",
       "[84 rows x 25 columns]"
      ]
     },
     "metadata": {},
     "output_type": "display_data"
    }
   ],
   "source": [
    "import math\n",
    "\n",
    "\n",
    "def ekstraksi_gelombang(data_mentah):\n",
    "\n",
    "    # Koefisien high pass\n",
    "    high_h0 = (1 - math.sqrt(3)) / (4 * math.sqrt(2))\n",
    "    high_h1 = (3 - math.sqrt(3)) / (4 * math.sqrt(2))\n",
    "    high_h2 = (3 + math.sqrt(3)) / (4 * math.sqrt(2))\n",
    "    high_h3 = (1 + math.sqrt(3)) / (4 * math.sqrt(2))\n",
    "\n",
    "    # Koefisien low pass\n",
    "    low_h0 = (1 + math.sqrt(3)) / (4 * math.sqrt(2))\n",
    "    low_h1 = (3 + math.sqrt(3)) / (4 * math.sqrt(2))\n",
    "    low_h2 = (3 - math.sqrt(3)) / (4 * math.sqrt(2))\n",
    "    low_h3 = (1 - math.sqrt(3)) / (4 * math.sqrt(2))\n",
    "\n",
    "    #ekstraksi Alpha\n",
    "    def ekstraksi_Alpha(data, high_h0, high_h1, high_h2, high_h3, low_h0, low_h1, low_h2, low_h3):    \n",
    "        result = (data * low_h0) + (data * low_h1) + (data * low_h2) + (data * low_h3)        \n",
    "        result = (result * low_h0) + (result * low_h1) + (result * low_h2) + (result * low_h3)\n",
    "        result = (result * low_h0) + (result * low_h1) + (result * low_h2) + (result * low_h3)\n",
    "        result = (result * low_h0) + (result * low_h1) + (result * low_h2) + (result * low_h3)\n",
    "        result = (result * high_h0) + (result * high_h1) + (result * high_h2) + (result * high_h3)\n",
    "        return result\n",
    "\n",
    "    #ekstraksi Betalow\n",
    "    def ekstraksi_Betalow(data, high_h0, high_h1, high_h2, high_h3, low_h0, low_h1, low_h2, low_h3):\n",
    "        result = (data * low_h0) + (data * low_h1) + (data * low_h2) + (data * low_h3)\n",
    "        result = (result * low_h0) + (result * low_h1) + (result * low_h2) + (result * low_h3)\n",
    "        result = (result * low_h0) + (result * low_h1) + (result * low_h2) + (result * low_h3)\n",
    "        result = (result * high_h0) + (result * high_h1) + (result * high_h2) + (result * high_h3)\n",
    "        return result\n",
    "\n",
    "    #ekstraksi BetaHigh\n",
    "    def ekstraksi_BetaHigh(data, high_h0, high_h1, high_h2, high_h3, low_h0, low_h1, low_h2, low_h3):\n",
    "        result = (data * low_h0) + (data * low_h1) + (data * low_h2) + (data * low_h3)\n",
    "        result = (result * low_h0) + (result * low_h1) + (result * low_h2) + (result * low_h3)\n",
    "        result = (result * low_h0) + (result * low_h1) + (result * low_h2) + (result * low_h3)\n",
    "        result = (result * low_h0) + (result * low_h1) + (result * low_h2) + (result * low_h3)\n",
    "        result = (result * high_h0) + (result * high_h1) + (result * high_h2) + (result * high_h3)\n",
    "        return result\n",
    "\n",
    "    #ekstraksi Gamma\n",
    "    def ekstraksi_Gamma(data, high_h0, high_h1, high_h2, high_h3, low_h0, low_h1, low_h2, low_h3):\n",
    "        result = (data * low_h0) + (data * low_h1) + (data * low_h2) + (data * low_h3)\n",
    "        result = (result * low_h0) + (result * low_h1) + (result * low_h2) + (result * low_h3)\n",
    "        result = (result * high_h0) + (result * high_h1) + (result * high_h2) + (result * high_h3)\n",
    "        return result\n",
    "\n",
    "   \n",
    "\n",
    "\n",
    "    data_mentah['Ae'] = ekstraksi_Alpha(data_mentah['An'], high_h0, high_h1, high_h2, high_h3, low_h0, low_h1, low_h2, low_h3)\n",
    "    data_mentah['Be0'] = ekstraksi_Betalow(data_mentah['Bn'], high_h0, high_h1, high_h2, high_h3, low_h0, low_h1, low_h2, low_h3)\n",
    "    data_mentah['Be1'] = ekstraksi_BetaHigh(data_mentah['Bn'], high_h0, high_h1, high_h2, high_h3, low_h0, low_h1, low_h2, low_h3)\n",
    "    data_mentah['Ge'] = ekstraksi_Gamma(data_mentah['Gn'], high_h0, high_h1, high_h2, high_h3, low_h0, low_h1, low_h2, low_h3)\n",
    "\n",
    "    return data_mentah\n",
    "display(ekstraksi_gelombang(data_mentah))\n",
    "\n",
    "# x2=ekstraksi_gelombang(x)\n",
    "# y2=ekstraksi_gelombang(y)\n",
    "# z2=ekstraksi_gelombang(z)\n",
    "\n",
    "# display(x2)\n",
    "# display(y2)\n",
    "# display(z2)\n"
   ]
  },
  {
   "cell_type": "markdown",
   "metadata": {},
   "source": [
    "## DB 4"
   ]
  },
  {
   "cell_type": "code",
   "execution_count": 10,
   "metadata": {},
   "outputs": [],
   "source": [
    "# import math\n",
    "\n",
    "\n",
    "# def ekstraksi_gelombang(data_mentah):\n",
    "#     # Koefisien high pass\n",
    "#     high_h0 = (1 - math.sqrt(3)) / (4 * math.sqrt(2))\n",
    "#     high_h1 = (3 - math.sqrt(3)) / (4 * math.sqrt(2))\n",
    "#     high_h2 = (3 + math.sqrt(3)) / (4 * math.sqrt(2))\n",
    "#     high_h3 = (1 + math.sqrt(3)) / (4 * math.sqrt(2))\n",
    "\n",
    "#     # Koefisien low pass\n",
    "#     low_h0 = (1 + math.sqrt(3)) / (4 * math.sqrt(2))\n",
    "#     low_h1 = (3 + math.sqrt(3)) / (4 * math.sqrt(2))\n",
    "#     low_h2 = (3 - math.sqrt(3)) / (4 * math.sqrt(2))\n",
    "#     low_h3 = (1 - math.sqrt(3)) / (4 * math.sqrt(2))\n",
    "\n",
    "#     # Ekstraksi Alpha\n",
    "#     def ekstraksi_Alpha(data, high_h0, high_h1, high_h2, high_h3, low_h0, low_h1, low_h2, low_h3):\n",
    "#         a1 = data\n",
    "#         a2 = data\n",
    "#         for _ in range(4):\n",
    "#             a1 = (a1 * low_h0) + (a1 * low_h1) \n",
    "#             a2 = (a2 * low_h2) + (a2 * low_h3)\n",
    "#         a1 = (a1 * high_h0) + (a1 * high_h1) \n",
    "#         a2 = (a2 * high_h2) + (a2 * high_h3)    \n",
    "#         return a1 + a2\n",
    "\n",
    "#     # Ekstraksi Betalow\n",
    "#     def ekstraksi_Betalow(data, high_h0, high_h1, high_h2, high_h3, low_h0, low_h1, low_h2, low_h3):\n",
    "#         a1 = data\n",
    "#         a2 = data\n",
    "#         for _ in range(3):\n",
    "#             a1 = (a1 * low_h0) + (a1 * low_h1) \n",
    "#             a2 = (a2 * low_h2) + (a2 * low_h3)\n",
    "#         a1 = (a1 * high_h0) + (a1 * high_h1) \n",
    "#         a2 = (a2 * high_h2) + (a2 * high_h3) \n",
    "#         return a1 + a2\n",
    "\n",
    "#     # Ekstraksi BetaHigh\n",
    "#     def ekstraksi_BetaHigh(data, high_h0, high_h1, high_h2, high_h3, low_h0, low_h1, low_h2, low_h3):\n",
    "#         a1 = data\n",
    "#         a2 = data\n",
    "#         for _ in range(4):\n",
    "#             a1 = (a1 * low_h0) + (a1 * low_h1) \n",
    "#             a2 = (a2 * low_h2) + (a2 * low_h3)\n",
    "#         a1 = (a1 * high_h0) + (a1 * high_h1) \n",
    "#         a2 = (a2 * high_h2) + (a2 * high_h3)  \n",
    "#         return a1 + a2\n",
    "        \n",
    "#     # Ekstraksi Gamma\n",
    "#     def ekstraksi_Gamma(data, high_h0, high_h1, high_h2, high_h3, low_h0, low_h1, low_h2, low_h3):\n",
    "#         a1 = data\n",
    "#         a2 = data\n",
    "#         for _ in range(2):\n",
    "#             a1 = (a1 * low_h0) + (a1 * low_h1) \n",
    "#             a2 = (a2 * low_h2) + (a2 * low_h3)\n",
    "#         a1 = (a1 * high_h0) + (a1 * high_h1) \n",
    "#         a2 = (a2 * high_h2) + (a2 * high_h3)  \n",
    "#         return a1 + a2\n",
    "\n",
    "#     # Ekstraksi gelombang untuk setiap kolom\n",
    "#     data_mentah['Ae'] = ekstraksi_Alpha(data_mentah['An'], high_h0, high_h1, high_h2, high_h3, low_h0, low_h1, low_h2, low_h3)\n",
    "#     data_mentah['Be0'] = ekstraksi_Betalow(data_mentah['Bn'], high_h0, high_h1, high_h2, high_h3, low_h0, low_h1, low_h2, low_h3)\n",
    "#     data_mentah['Be1'] = ekstraksi_BetaHigh(data_mentah['Bn'], high_h0, high_h1, high_h2, high_h3, low_h0, low_h1, low_h2, low_h3)\n",
    "#     data_mentah['Ge'] = ekstraksi_Gamma(data_mentah['Gn'], high_h0, high_h1, high_h2, high_h3, low_h0, low_h1, low_h2, low_h3)\n",
    "\n",
    "#     return data_mentah\n",
    "\n",
    "    \n",
    "# display(ekstraksi_gelombang(data_mentah))\n"
   ]
  },
  {
   "cell_type": "markdown",
   "metadata": {},
   "source": [
    "## Reduksi Data"
   ]
  },
  {
   "cell_type": "code",
   "execution_count": 54,
   "metadata": {},
   "outputs": [],
   "source": [
    "\n",
    "def gelombang_otak(data_mentah):\n",
    "    #seleksi data dari urutan daka ke 11 hingga 70\n",
    "    data_bersih=data_mentah.iloc[10:70]\n",
    "\n",
    "    #mengisi nilai rata-rata\n",
    "\n",
    "    rA=data_bersih['Ae'].mean()\n",
    "    rB=data_bersih['Be1'].mean()\n",
    "    rG=data_bersih['Ge'].mean()\n",
    "\n",
    "    #mengisi nilai standar deviasi\n",
    "\n",
    "    stdA = data_bersih['Ae'].std()\n",
    "    stdB = data_bersih['Be1'].std()\n",
    "    stdG = data_bersih['Ge'].std()\n",
    "\n",
    "    #mengisi nilai absolute\n",
    "\n",
    "    a=data_bersih['Ae']-rA\n",
    "    b=data_bersih['Be1']-rB\n",
    "    g=data_bersih['Ge']-rG\n",
    "    \n",
    "    absA=a.abs().mean()\n",
    "    absB=b.abs().mean()\n",
    "    absG=g.abs().mean()\n",
    "    \n",
    "    # target\n",
    "    def data_target(rA,rB):\n",
    "        if min(rA,rB)==rA:\n",
    "            return 1\n",
    "        else:\n",
    "            return 0\n",
    "    target=data_target(rA,rB)\n",
    "\n",
    "    #membuat dataframe baru\n",
    "    data_gelombang_otak=[rA,rB,rG,stdA,stdB,stdG,absA,absB,absG,target]\n",
    "    \n",
    "    # Mengembalikan data dictionary agar bisa diamsukan ke tabel baru\n",
    "    return {\n",
    "        'rA': rA,\n",
    "        'rB': rB,\n",
    "        'rG': rG,\n",
    "        'stdA': stdA,\n",
    "        'stdB': stdB,\n",
    "        'stdG': stdG,\n",
    "        'absA': absA,\n",
    "        'absB': absB,\n",
    "        'absG': absG,\n",
    "        'target':target,\n",
    "    }\n",
    "\n",
    "mentah=[\n",
    "    'data/AditHigh.csv',\n",
    "    'data/AditLow.csv',\n",
    "    'data/AhmadHigh.csv',\n",
    "    'data/AhmadLow.csv',\n",
    "    'data/AndiHigh.csv',\n",
    "    'data/AndiLow.csv',\n",
    "    'data/ArasHigh.csv',\n",
    "    'data/ArasLow.csv',\n",
    "    'data/JulHigh.csv',\n",
    "    'data/JulLow.csv',\n",
    "\n",
    "]\n",
    "# data_bersih=data_mentah.iloc[10:70]\n",
    "# display(data_bersih)\n",
    "# display(len(data_bersih),data_bersih[['obs','Ae','Be1', 'Ge']])\n",
    "\n",
    "# display(gelombang_otak(data_mentah))\n",
    "\n",
    "# x3=gelombang_otak(x2)\n",
    "# y3=gelombang_otak(y2)\n",
    "# z3=gelombang_otak(z2)\n",
    "\n",
    "# display(x3)\n",
    "# display(y3)\n",
    "# display(z3)\n",
    "\n"
   ]
  },
  {
   "cell_type": "markdown",
   "metadata": {},
   "source": [
    "## alternatif"
   ]
  },
  {
   "cell_type": "code",
   "execution_count": 43,
   "metadata": {},
   "outputs": [],
   "source": [
    "\n",
    "# def gelombang_otak(data_mentah):\n",
    "#     #seleksi data dari urutan daka ke 11 hingga 70\n",
    "#     data_bersih=data_mentah.iloc[10:70]\n",
    "\n",
    "#     #mengisi nilai rata-rata\n",
    "\n",
    "#     rA=data_bersih['Ae'].mean()\n",
    "#     rB1=data_bersih['Be1'].mean()\n",
    "#     rB0=data_bersih['Be0'].mean()\n",
    "#     rG=data_bersih['Ge'].mean()\n",
    "\n",
    "#     #mengisi nilai standar deviasi\n",
    "\n",
    "#     stdA = data_bersih['Ae'].std()\n",
    "#     stdB0 = data_bersih['Be0'].std()\n",
    "#     stdB1 = data_bersih['Be1'].std()\n",
    "#     stdG = data_bersih['Ge'].std()\n",
    "\n",
    "#     #rata-rata absolute mengisi nilai absolute\n",
    "\n",
    "#     a=data_bersih['Ae']-rA\n",
    "#     # b=data_bersih['Be1']-rB\n",
    "#     b0=data_bersih['Be0']-rB0\n",
    "#     b1=data_bersih['Be1']-rB1\n",
    "#     g=data_bersih['Ge']-rG\n",
    "    \n",
    "#     absA=a.abs().mean()\n",
    "#     # absB=b.abs().mean()\n",
    "#     absB0=b0.abs().mean()\n",
    "#     absB1=b1.abs().mean()\n",
    "#     absG=g.abs().mean()\n",
    "    \n",
    "#     z=(rB1+rB0)/2\n",
    "\n",
    "    \n",
    "#     # target\n",
    "#     def data_target(rA,z):\n",
    "#         if min(rA,z)==rA:\n",
    "#             return True\n",
    "#         else:        \n",
    "#             return False\n",
    "#     target=data_target(rA,z)\n",
    "\n",
    "#     #membuat dataframe baru\n",
    "#     data_gelombang_otak=[rA,rB0,rB1,rG,stdA,stdB0,stdB1,stdG,absA,absB0,absB1,absG,target]    \n",
    "    \n",
    "    \n",
    "#     # Mengembalikan data dictionary agar bisa diamsukan ke tabel baru\n",
    "#     return {\n",
    "#         'rA': rA,\n",
    "#         'rB0': rB0,\n",
    "#         'rB1': rB1,\n",
    "#         'rG': rG,\n",
    "#         'stdA': stdA,\n",
    "#         'stdB0': stdB0,\n",
    "#         'stdB1': stdB1,\n",
    "#         'stdG': stdG,\n",
    "#         'absA': absA,\n",
    "#         'absB0': absB0,\n",
    "#         'absB1': absB1,\n",
    "#         'absG': absG,\n",
    "#         'target':target,\n",
    "\n",
    "        \n",
    "#     }\n",
    "\n",
    "\n",
    "# mentah=[\n",
    "#     'data/AditHigh.csv',\n",
    "#     'data/AditLow.csv',\n",
    "#     'data/AhmadHigh.csv',\n",
    "#     'data/AhmadLow.csv',\n",
    "#     'data/AndiHigh.csv',\n",
    "#     'data/AndiLow.csv',\n",
    "#     'data/ArasHigh.csv',\n",
    "#     'data/ArasLow.csv',\n",
    "#     'data/JulHigh.csv',\n",
    "#     'data/JulLow.csv',\n",
    "\n",
    "# ]\n",
    "\n",
    "# data_bersih=data_mentah.iloc[10:70]\n",
    "# # display(data_bersih)\n",
    "# # display(len(data_bersih),data_bersih[['obs','Ae','Be1', 'Ge']])"
   ]
  },
  {
   "cell_type": "markdown",
   "metadata": {},
   "source": [
    "## Data Latih"
   ]
  },
  {
   "cell_type": "code",
   "execution_count": 55,
   "metadata": {},
   "outputs": [
    {
     "name": "stdout",
     "output_type": "stream",
     "text": [
      "jumlah target 1 adalah : 6\n",
      "dari 10  data\n"
     ]
    },
    {
     "data": {
      "text/html": [
       "<div>\n",
       "<style scoped>\n",
       "    .dataframe tbody tr th:only-of-type {\n",
       "        vertical-align: middle;\n",
       "    }\n",
       "\n",
       "    .dataframe tbody tr th {\n",
       "        vertical-align: top;\n",
       "    }\n",
       "\n",
       "    .dataframe thead th {\n",
       "        text-align: right;\n",
       "    }\n",
       "</style>\n",
       "<table border=\"1\" class=\"dataframe\">\n",
       "  <thead>\n",
       "    <tr style=\"text-align: right;\">\n",
       "      <th></th>\n",
       "      <th>rA</th>\n",
       "      <th>rB</th>\n",
       "      <th>rG</th>\n",
       "      <th>stdA</th>\n",
       "      <th>stdB</th>\n",
       "      <th>stdG</th>\n",
       "      <th>absA</th>\n",
       "      <th>absB</th>\n",
       "      <th>absG</th>\n",
       "      <th>target</th>\n",
       "    </tr>\n",
       "  </thead>\n",
       "  <tbody>\n",
       "    <tr>\n",
       "      <th>0</th>\n",
       "      <td>1.610124</td>\n",
       "      <td>1.890764</td>\n",
       "      <td>0.723214</td>\n",
       "      <td>1.291431</td>\n",
       "      <td>1.108605</td>\n",
       "      <td>0.609896</td>\n",
       "      <td>1.034696</td>\n",
       "      <td>0.854036</td>\n",
       "      <td>0.455668</td>\n",
       "      <td>1</td>\n",
       "    </tr>\n",
       "    <tr>\n",
       "      <th>1</th>\n",
       "      <td>0.718105</td>\n",
       "      <td>2.443882</td>\n",
       "      <td>0.524555</td>\n",
       "      <td>0.917572</td>\n",
       "      <td>1.333322</td>\n",
       "      <td>0.395304</td>\n",
       "      <td>0.508261</td>\n",
       "      <td>1.053057</td>\n",
       "      <td>0.244391</td>\n",
       "      <td>1</td>\n",
       "    </tr>\n",
       "    <tr>\n",
       "      <th>2</th>\n",
       "      <td>0.833177</td>\n",
       "      <td>2.036126</td>\n",
       "      <td>1.089481</td>\n",
       "      <td>0.788336</td>\n",
       "      <td>1.197911</td>\n",
       "      <td>0.609547</td>\n",
       "      <td>0.444869</td>\n",
       "      <td>0.883487</td>\n",
       "      <td>0.487266</td>\n",
       "      <td>1</td>\n",
       "    </tr>\n",
       "    <tr>\n",
       "      <th>3</th>\n",
       "      <td>1.219380</td>\n",
       "      <td>0.433191</td>\n",
       "      <td>0.275764</td>\n",
       "      <td>1.180659</td>\n",
       "      <td>0.764821</td>\n",
       "      <td>0.378669</td>\n",
       "      <td>0.854894</td>\n",
       "      <td>0.328298</td>\n",
       "      <td>0.179850</td>\n",
       "      <td>0</td>\n",
       "    </tr>\n",
       "    <tr>\n",
       "      <th>4</th>\n",
       "      <td>0.840645</td>\n",
       "      <td>0.519904</td>\n",
       "      <td>0.256612</td>\n",
       "      <td>1.128370</td>\n",
       "      <td>0.777849</td>\n",
       "      <td>0.472273</td>\n",
       "      <td>0.768465</td>\n",
       "      <td>0.402160</td>\n",
       "      <td>0.250815</td>\n",
       "      <td>0</td>\n",
       "    </tr>\n",
       "    <tr>\n",
       "      <th>5</th>\n",
       "      <td>1.610124</td>\n",
       "      <td>1.890764</td>\n",
       "      <td>0.723214</td>\n",
       "      <td>1.291431</td>\n",
       "      <td>1.108605</td>\n",
       "      <td>0.609896</td>\n",
       "      <td>1.034696</td>\n",
       "      <td>0.854036</td>\n",
       "      <td>0.455668</td>\n",
       "      <td>1</td>\n",
       "    </tr>\n",
       "    <tr>\n",
       "      <th>6</th>\n",
       "      <td>1.304006</td>\n",
       "      <td>1.702800</td>\n",
       "      <td>0.930412</td>\n",
       "      <td>1.173741</td>\n",
       "      <td>1.310425</td>\n",
       "      <td>0.672592</td>\n",
       "      <td>0.901932</td>\n",
       "      <td>1.064106</td>\n",
       "      <td>0.561949</td>\n",
       "      <td>1</td>\n",
       "    </tr>\n",
       "    <tr>\n",
       "      <th>7</th>\n",
       "      <td>1.050911</td>\n",
       "      <td>0.954511</td>\n",
       "      <td>0.477830</td>\n",
       "      <td>1.153423</td>\n",
       "      <td>1.109543</td>\n",
       "      <td>0.563868</td>\n",
       "      <td>0.831819</td>\n",
       "      <td>0.777889</td>\n",
       "      <td>0.388990</td>\n",
       "      <td>0</td>\n",
       "    </tr>\n",
       "    <tr>\n",
       "      <th>8</th>\n",
       "      <td>1.610124</td>\n",
       "      <td>1.890764</td>\n",
       "      <td>0.723214</td>\n",
       "      <td>1.291431</td>\n",
       "      <td>1.108605</td>\n",
       "      <td>0.609896</td>\n",
       "      <td>1.034696</td>\n",
       "      <td>0.854036</td>\n",
       "      <td>0.455668</td>\n",
       "      <td>1</td>\n",
       "    </tr>\n",
       "    <tr>\n",
       "      <th>9</th>\n",
       "      <td>0.452239</td>\n",
       "      <td>0.349834</td>\n",
       "      <td>0.597699</td>\n",
       "      <td>0.852803</td>\n",
       "      <td>0.914274</td>\n",
       "      <td>0.608175</td>\n",
       "      <td>0.486508</td>\n",
       "      <td>0.412555</td>\n",
       "      <td>0.468882</td>\n",
       "      <td>0</td>\n",
       "    </tr>\n",
       "  </tbody>\n",
       "</table>\n",
       "</div>"
      ],
      "text/plain": [
       "         rA        rB        rG      stdA      stdB      stdG      absA  \\\n",
       "0  1.610124  1.890764  0.723214  1.291431  1.108605  0.609896  1.034696   \n",
       "1  0.718105  2.443882  0.524555  0.917572  1.333322  0.395304  0.508261   \n",
       "2  0.833177  2.036126  1.089481  0.788336  1.197911  0.609547  0.444869   \n",
       "3  1.219380  0.433191  0.275764  1.180659  0.764821  0.378669  0.854894   \n",
       "4  0.840645  0.519904  0.256612  1.128370  0.777849  0.472273  0.768465   \n",
       "5  1.610124  1.890764  0.723214  1.291431  1.108605  0.609896  1.034696   \n",
       "6  1.304006  1.702800  0.930412  1.173741  1.310425  0.672592  0.901932   \n",
       "7  1.050911  0.954511  0.477830  1.153423  1.109543  0.563868  0.831819   \n",
       "8  1.610124  1.890764  0.723214  1.291431  1.108605  0.609896  1.034696   \n",
       "9  0.452239  0.349834  0.597699  0.852803  0.914274  0.608175  0.486508   \n",
       "\n",
       "       absB      absG target  \n",
       "0  0.854036  0.455668      1  \n",
       "1  1.053057  0.244391      1  \n",
       "2  0.883487  0.487266      1  \n",
       "3  0.328298  0.179850      0  \n",
       "4  0.402160  0.250815      0  \n",
       "5  0.854036  0.455668      1  \n",
       "6  1.064106  0.561949      1  \n",
       "7  0.777889  0.388990      0  \n",
       "8  0.854036  0.455668      1  \n",
       "9  0.412555  0.468882      0  "
      ]
     },
     "metadata": {},
     "output_type": "display_data"
    }
   ],
   "source": [
    "\n",
    "# data latih\n",
    "\n",
    "#membuat dataframe baru\n",
    "data_latih=['rA','rB','rG','stdA','stdB','stdG','absA','absB','absG','target']\n",
    "# data_latih=['rA','rB0','rB1','rG','stdA','stdB0','stdB1','stdG','absA','absB0','absB1','absG','target']\n",
    "\n",
    "\n",
    "\n",
    "# membuat variabel untuk menampung data_latih\n",
    "data_latih=pd.DataFrame(columns=data_latih)\n",
    "\n",
    "# fungsi persiapan data (mengubah data mentah menjadi data siap uji)\n",
    "def persiapan_data(data_mentah):\n",
    "    atribut_gelombang(data_mentah)\n",
    "    normalisasi(data_mentah)\n",
    "    ekstraksi_gelombang(data_mentah)\n",
    "    hasil=gelombang_otak(data_mentah)\n",
    "    return hasil\n",
    "\n",
    "\n",
    "\n",
    "for data in mentah:\n",
    "    hasil_data=pd.read_csv(data)\n",
    "    result=persiapan_data(hasil_data)\n",
    "    \n",
    "    # tambahkan fungsi concat untuk menambahkan hasil perhitungan ke dalam data_latih\n",
    "    data_latih=pd.concat([data_latih, pd.DataFrame([result])],ignore_index=True)\n",
    "\n",
    "\n",
    "print(\"jumlah target 1 adalah :\",data_latih['target'].sum())\n",
    "print(\"dari\",len(data_latih),' data')\n",
    "display(data_latih)\n",
    "\n",
    "\n",
    "\n"
   ]
  },
  {
   "cell_type": "markdown",
   "metadata": {},
   "source": [
    "## LVQ manual"
   ]
  },
  {
   "cell_type": "code",
   "execution_count": 29,
   "metadata": {},
   "outputs": [
    {
     "name": "stdout",
     "output_type": "stream",
     "text": [
      "[array([1.61012357, 1.89076437, 0.72321411, 1.29143087, 1.1086053 ,\n",
      "       0.60989633, 1.03469619, 0.85403625, 0.45566798]), array([0.45223875, 0.34983389, 0.59769911, 0.85280322, 0.9142739 ,\n",
      "       0.60817482, 0.4865081 , 0.41255525, 0.46888232])]\n"
     ]
    },
    {
     "data": {
      "text/plain": [
       "'ini sample'"
      ]
     },
     "metadata": {},
     "output_type": "display_data"
    },
    {
     "data": {
      "text/plain": [
       "1.6101235663494153"
      ]
     },
     "metadata": {},
     "output_type": "display_data"
    },
    {
     "data": {
      "text/plain": [
       "'ini sample'"
      ]
     },
     "metadata": {},
     "output_type": "display_data"
    },
    {
     "data": {
      "text/plain": [
       "0.7181051194181483"
      ]
     },
     "metadata": {},
     "output_type": "display_data"
    },
    {
     "data": {
      "text/plain": [
       "'ini sample'"
      ]
     },
     "metadata": {},
     "output_type": "display_data"
    },
    {
     "data": {
      "text/plain": [
       "0.8331765584172126"
      ]
     },
     "metadata": {},
     "output_type": "display_data"
    },
    {
     "data": {
      "text/plain": [
       "'ini sample'"
      ]
     },
     "metadata": {},
     "output_type": "display_data"
    },
    {
     "data": {
      "text/plain": [
       "1.2193796045501344"
      ]
     },
     "metadata": {},
     "output_type": "display_data"
    },
    {
     "data": {
      "text/plain": [
       "'ini sample'"
      ]
     },
     "metadata": {},
     "output_type": "display_data"
    },
    {
     "data": {
      "text/plain": [
       "0.840645259550344"
      ]
     },
     "metadata": {},
     "output_type": "display_data"
    },
    {
     "data": {
      "text/plain": [
       "'ini sample'"
      ]
     },
     "metadata": {},
     "output_type": "display_data"
    },
    {
     "data": {
      "text/plain": [
       "1.6101235663494153"
      ]
     },
     "metadata": {},
     "output_type": "display_data"
    },
    {
     "data": {
      "text/plain": [
       "'ini sample'"
      ]
     },
     "metadata": {},
     "output_type": "display_data"
    },
    {
     "data": {
      "text/plain": [
       "1.6101235663494153"
      ]
     },
     "metadata": {},
     "output_type": "display_data"
    },
    {
     "data": {
      "text/plain": [
       "'ini sample'"
      ]
     },
     "metadata": {},
     "output_type": "display_data"
    },
    {
     "data": {
      "text/plain": [
       "0.7181051194181483"
      ]
     },
     "metadata": {},
     "output_type": "display_data"
    },
    {
     "data": {
      "text/plain": [
       "'ini sample'"
      ]
     },
     "metadata": {},
     "output_type": "display_data"
    },
    {
     "data": {
      "text/plain": [
       "0.8331765584172126"
      ]
     },
     "metadata": {},
     "output_type": "display_data"
    },
    {
     "data": {
      "text/plain": [
       "'ini sample'"
      ]
     },
     "metadata": {},
     "output_type": "display_data"
    },
    {
     "data": {
      "text/plain": [
       "1.2193796045501344"
      ]
     },
     "metadata": {},
     "output_type": "display_data"
    },
    {
     "data": {
      "text/plain": [
       "'ini sample'"
      ]
     },
     "metadata": {},
     "output_type": "display_data"
    },
    {
     "data": {
      "text/plain": [
       "0.840645259550344"
      ]
     },
     "metadata": {},
     "output_type": "display_data"
    },
    {
     "data": {
      "text/plain": [
       "'ini sample'"
      ]
     },
     "metadata": {},
     "output_type": "display_data"
    },
    {
     "data": {
      "text/plain": [
       "1.6101235663494153"
      ]
     },
     "metadata": {},
     "output_type": "display_data"
    },
    {
     "data": {
      "text/plain": [
       "'ini sample'"
      ]
     },
     "metadata": {},
     "output_type": "display_data"
    },
    {
     "data": {
      "text/plain": [
       "1.6101235663494153"
      ]
     },
     "metadata": {},
     "output_type": "display_data"
    },
    {
     "data": {
      "text/plain": [
       "'ini sample'"
      ]
     },
     "metadata": {},
     "output_type": "display_data"
    },
    {
     "data": {
      "text/plain": [
       "0.7181051194181483"
      ]
     },
     "metadata": {},
     "output_type": "display_data"
    },
    {
     "data": {
      "text/plain": [
       "'ini sample'"
      ]
     },
     "metadata": {},
     "output_type": "display_data"
    },
    {
     "data": {
      "text/plain": [
       "0.8331765584172126"
      ]
     },
     "metadata": {},
     "output_type": "display_data"
    },
    {
     "data": {
      "text/plain": [
       "'ini sample'"
      ]
     },
     "metadata": {},
     "output_type": "display_data"
    },
    {
     "data": {
      "text/plain": [
       "1.2193796045501344"
      ]
     },
     "metadata": {},
     "output_type": "display_data"
    },
    {
     "data": {
      "text/plain": [
       "'ini sample'"
      ]
     },
     "metadata": {},
     "output_type": "display_data"
    },
    {
     "data": {
      "text/plain": [
       "0.840645259550344"
      ]
     },
     "metadata": {},
     "output_type": "display_data"
    },
    {
     "data": {
      "text/plain": [
       "'ini sample'"
      ]
     },
     "metadata": {},
     "output_type": "display_data"
    },
    {
     "data": {
      "text/plain": [
       "1.6101235663494153"
      ]
     },
     "metadata": {},
     "output_type": "display_data"
    },
    {
     "data": {
      "text/plain": [
       "'ini sample'"
      ]
     },
     "metadata": {},
     "output_type": "display_data"
    },
    {
     "data": {
      "text/plain": [
       "1.6101235663494153"
      ]
     },
     "metadata": {},
     "output_type": "display_data"
    },
    {
     "data": {
      "text/plain": [
       "'ini sample'"
      ]
     },
     "metadata": {},
     "output_type": "display_data"
    },
    {
     "data": {
      "text/plain": [
       "0.7181051194181483"
      ]
     },
     "metadata": {},
     "output_type": "display_data"
    },
    {
     "data": {
      "text/plain": [
       "'ini sample'"
      ]
     },
     "metadata": {},
     "output_type": "display_data"
    },
    {
     "data": {
      "text/plain": [
       "0.8331765584172126"
      ]
     },
     "metadata": {},
     "output_type": "display_data"
    },
    {
     "data": {
      "text/plain": [
       "'ini sample'"
      ]
     },
     "metadata": {},
     "output_type": "display_data"
    },
    {
     "data": {
      "text/plain": [
       "1.2193796045501344"
      ]
     },
     "metadata": {},
     "output_type": "display_data"
    },
    {
     "data": {
      "text/plain": [
       "'ini sample'"
      ]
     },
     "metadata": {},
     "output_type": "display_data"
    },
    {
     "data": {
      "text/plain": [
       "0.840645259550344"
      ]
     },
     "metadata": {},
     "output_type": "display_data"
    },
    {
     "data": {
      "text/plain": [
       "'ini sample'"
      ]
     },
     "metadata": {},
     "output_type": "display_data"
    },
    {
     "data": {
      "text/plain": [
       "1.6101235663494153"
      ]
     },
     "metadata": {},
     "output_type": "display_data"
    },
    {
     "data": {
      "text/plain": [
       "'ini sample'"
      ]
     },
     "metadata": {},
     "output_type": "display_data"
    },
    {
     "data": {
      "text/plain": [
       "1.6101235663494153"
      ]
     },
     "metadata": {},
     "output_type": "display_data"
    },
    {
     "data": {
      "text/plain": [
       "'ini sample'"
      ]
     },
     "metadata": {},
     "output_type": "display_data"
    },
    {
     "data": {
      "text/plain": [
       "0.7181051194181483"
      ]
     },
     "metadata": {},
     "output_type": "display_data"
    },
    {
     "data": {
      "text/plain": [
       "'ini sample'"
      ]
     },
     "metadata": {},
     "output_type": "display_data"
    },
    {
     "data": {
      "text/plain": [
       "0.8331765584172126"
      ]
     },
     "metadata": {},
     "output_type": "display_data"
    },
    {
     "data": {
      "text/plain": [
       "'ini sample'"
      ]
     },
     "metadata": {},
     "output_type": "display_data"
    },
    {
     "data": {
      "text/plain": [
       "1.2193796045501344"
      ]
     },
     "metadata": {},
     "output_type": "display_data"
    },
    {
     "data": {
      "text/plain": [
       "'ini sample'"
      ]
     },
     "metadata": {},
     "output_type": "display_data"
    },
    {
     "data": {
      "text/plain": [
       "0.840645259550344"
      ]
     },
     "metadata": {},
     "output_type": "display_data"
    },
    {
     "data": {
      "text/plain": [
       "'ini sample'"
      ]
     },
     "metadata": {},
     "output_type": "display_data"
    },
    {
     "data": {
      "text/plain": [
       "1.6101235663494153"
      ]
     },
     "metadata": {},
     "output_type": "display_data"
    },
    {
     "data": {
      "text/plain": [
       "'ini sample'"
      ]
     },
     "metadata": {},
     "output_type": "display_data"
    },
    {
     "data": {
      "text/plain": [
       "1.6101235663494153"
      ]
     },
     "metadata": {},
     "output_type": "display_data"
    },
    {
     "data": {
      "text/plain": [
       "'ini sample'"
      ]
     },
     "metadata": {},
     "output_type": "display_data"
    },
    {
     "data": {
      "text/plain": [
       "0.7181051194181483"
      ]
     },
     "metadata": {},
     "output_type": "display_data"
    },
    {
     "data": {
      "text/plain": [
       "'ini sample'"
      ]
     },
     "metadata": {},
     "output_type": "display_data"
    },
    {
     "data": {
      "text/plain": [
       "0.8331765584172126"
      ]
     },
     "metadata": {},
     "output_type": "display_data"
    },
    {
     "data": {
      "text/plain": [
       "'ini sample'"
      ]
     },
     "metadata": {},
     "output_type": "display_data"
    },
    {
     "data": {
      "text/plain": [
       "1.2193796045501344"
      ]
     },
     "metadata": {},
     "output_type": "display_data"
    },
    {
     "data": {
      "text/plain": [
       "'ini sample'"
      ]
     },
     "metadata": {},
     "output_type": "display_data"
    },
    {
     "data": {
      "text/plain": [
       "0.840645259550344"
      ]
     },
     "metadata": {},
     "output_type": "display_data"
    },
    {
     "data": {
      "text/plain": [
       "'ini sample'"
      ]
     },
     "metadata": {},
     "output_type": "display_data"
    },
    {
     "data": {
      "text/plain": [
       "1.6101235663494153"
      ]
     },
     "metadata": {},
     "output_type": "display_data"
    },
    {
     "data": {
      "text/plain": [
       "'ini sample'"
      ]
     },
     "metadata": {},
     "output_type": "display_data"
    },
    {
     "data": {
      "text/plain": [
       "1.6101235663494153"
      ]
     },
     "metadata": {},
     "output_type": "display_data"
    },
    {
     "data": {
      "text/plain": [
       "'ini sample'"
      ]
     },
     "metadata": {},
     "output_type": "display_data"
    },
    {
     "data": {
      "text/plain": [
       "0.7181051194181483"
      ]
     },
     "metadata": {},
     "output_type": "display_data"
    },
    {
     "data": {
      "text/plain": [
       "'ini sample'"
      ]
     },
     "metadata": {},
     "output_type": "display_data"
    },
    {
     "data": {
      "text/plain": [
       "0.8331765584172126"
      ]
     },
     "metadata": {},
     "output_type": "display_data"
    },
    {
     "data": {
      "text/plain": [
       "'ini sample'"
      ]
     },
     "metadata": {},
     "output_type": "display_data"
    },
    {
     "data": {
      "text/plain": [
       "1.2193796045501344"
      ]
     },
     "metadata": {},
     "output_type": "display_data"
    },
    {
     "data": {
      "text/plain": [
       "'ini sample'"
      ]
     },
     "metadata": {},
     "output_type": "display_data"
    },
    {
     "data": {
      "text/plain": [
       "0.840645259550344"
      ]
     },
     "metadata": {},
     "output_type": "display_data"
    },
    {
     "data": {
      "text/plain": [
       "'ini sample'"
      ]
     },
     "metadata": {},
     "output_type": "display_data"
    },
    {
     "data": {
      "text/plain": [
       "1.6101235663494153"
      ]
     },
     "metadata": {},
     "output_type": "display_data"
    },
    {
     "data": {
      "text/plain": [
       "'ini sample'"
      ]
     },
     "metadata": {},
     "output_type": "display_data"
    },
    {
     "data": {
      "text/plain": [
       "1.6101235663494153"
      ]
     },
     "metadata": {},
     "output_type": "display_data"
    },
    {
     "data": {
      "text/plain": [
       "'ini sample'"
      ]
     },
     "metadata": {},
     "output_type": "display_data"
    },
    {
     "data": {
      "text/plain": [
       "0.7181051194181483"
      ]
     },
     "metadata": {},
     "output_type": "display_data"
    },
    {
     "data": {
      "text/plain": [
       "'ini sample'"
      ]
     },
     "metadata": {},
     "output_type": "display_data"
    },
    {
     "data": {
      "text/plain": [
       "0.8331765584172126"
      ]
     },
     "metadata": {},
     "output_type": "display_data"
    },
    {
     "data": {
      "text/plain": [
       "'ini sample'"
      ]
     },
     "metadata": {},
     "output_type": "display_data"
    },
    {
     "data": {
      "text/plain": [
       "1.2193796045501344"
      ]
     },
     "metadata": {},
     "output_type": "display_data"
    },
    {
     "data": {
      "text/plain": [
       "'ini sample'"
      ]
     },
     "metadata": {},
     "output_type": "display_data"
    },
    {
     "data": {
      "text/plain": [
       "0.840645259550344"
      ]
     },
     "metadata": {},
     "output_type": "display_data"
    },
    {
     "data": {
      "text/plain": [
       "'ini sample'"
      ]
     },
     "metadata": {},
     "output_type": "display_data"
    },
    {
     "data": {
      "text/plain": [
       "1.6101235663494153"
      ]
     },
     "metadata": {},
     "output_type": "display_data"
    },
    {
     "data": {
      "text/plain": [
       "'ini sample'"
      ]
     },
     "metadata": {},
     "output_type": "display_data"
    },
    {
     "data": {
      "text/plain": [
       "1.6101235663494153"
      ]
     },
     "metadata": {},
     "output_type": "display_data"
    },
    {
     "data": {
      "text/plain": [
       "'ini sample'"
      ]
     },
     "metadata": {},
     "output_type": "display_data"
    },
    {
     "data": {
      "text/plain": [
       "0.7181051194181483"
      ]
     },
     "metadata": {},
     "output_type": "display_data"
    },
    {
     "data": {
      "text/plain": [
       "'ini sample'"
      ]
     },
     "metadata": {},
     "output_type": "display_data"
    },
    {
     "data": {
      "text/plain": [
       "0.8331765584172126"
      ]
     },
     "metadata": {},
     "output_type": "display_data"
    },
    {
     "data": {
      "text/plain": [
       "'ini sample'"
      ]
     },
     "metadata": {},
     "output_type": "display_data"
    },
    {
     "data": {
      "text/plain": [
       "1.2193796045501344"
      ]
     },
     "metadata": {},
     "output_type": "display_data"
    },
    {
     "data": {
      "text/plain": [
       "'ini sample'"
      ]
     },
     "metadata": {},
     "output_type": "display_data"
    },
    {
     "data": {
      "text/plain": [
       "0.840645259550344"
      ]
     },
     "metadata": {},
     "output_type": "display_data"
    },
    {
     "data": {
      "text/plain": [
       "'ini sample'"
      ]
     },
     "metadata": {},
     "output_type": "display_data"
    },
    {
     "data": {
      "text/plain": [
       "1.6101235663494153"
      ]
     },
     "metadata": {},
     "output_type": "display_data"
    },
    {
     "data": {
      "text/plain": [
       "'ini sample'"
      ]
     },
     "metadata": {},
     "output_type": "display_data"
    },
    {
     "data": {
      "text/plain": [
       "1.6101235663494153"
      ]
     },
     "metadata": {},
     "output_type": "display_data"
    },
    {
     "data": {
      "text/plain": [
       "'ini sample'"
      ]
     },
     "metadata": {},
     "output_type": "display_data"
    },
    {
     "data": {
      "text/plain": [
       "0.7181051194181483"
      ]
     },
     "metadata": {},
     "output_type": "display_data"
    },
    {
     "data": {
      "text/plain": [
       "'ini sample'"
      ]
     },
     "metadata": {},
     "output_type": "display_data"
    },
    {
     "data": {
      "text/plain": [
       "0.8331765584172126"
      ]
     },
     "metadata": {},
     "output_type": "display_data"
    },
    {
     "data": {
      "text/plain": [
       "'ini sample'"
      ]
     },
     "metadata": {},
     "output_type": "display_data"
    },
    {
     "data": {
      "text/plain": [
       "1.2193796045501344"
      ]
     },
     "metadata": {},
     "output_type": "display_data"
    },
    {
     "data": {
      "text/plain": [
       "'ini sample'"
      ]
     },
     "metadata": {},
     "output_type": "display_data"
    },
    {
     "data": {
      "text/plain": [
       "0.840645259550344"
      ]
     },
     "metadata": {},
     "output_type": "display_data"
    },
    {
     "data": {
      "text/plain": [
       "'ini sample'"
      ]
     },
     "metadata": {},
     "output_type": "display_data"
    },
    {
     "data": {
      "text/plain": [
       "1.6101235663494153"
      ]
     },
     "metadata": {},
     "output_type": "display_data"
    },
    {
     "data": {
      "text/plain": [
       "'ini sample'"
      ]
     },
     "metadata": {},
     "output_type": "display_data"
    },
    {
     "data": {
      "text/plain": [
       "1.6101235663494153"
      ]
     },
     "metadata": {},
     "output_type": "display_data"
    },
    {
     "data": {
      "text/plain": [
       "'ini sample'"
      ]
     },
     "metadata": {},
     "output_type": "display_data"
    },
    {
     "data": {
      "text/plain": [
       "0.7181051194181483"
      ]
     },
     "metadata": {},
     "output_type": "display_data"
    },
    {
     "data": {
      "text/plain": [
       "'ini sample'"
      ]
     },
     "metadata": {},
     "output_type": "display_data"
    },
    {
     "data": {
      "text/plain": [
       "0.8331765584172126"
      ]
     },
     "metadata": {},
     "output_type": "display_data"
    },
    {
     "data": {
      "text/plain": [
       "'ini sample'"
      ]
     },
     "metadata": {},
     "output_type": "display_data"
    },
    {
     "data": {
      "text/plain": [
       "1.2193796045501344"
      ]
     },
     "metadata": {},
     "output_type": "display_data"
    },
    {
     "data": {
      "text/plain": [
       "'ini sample'"
      ]
     },
     "metadata": {},
     "output_type": "display_data"
    },
    {
     "data": {
      "text/plain": [
       "0.840645259550344"
      ]
     },
     "metadata": {},
     "output_type": "display_data"
    },
    {
     "data": {
      "text/plain": [
       "'ini sample'"
      ]
     },
     "metadata": {},
     "output_type": "display_data"
    },
    {
     "data": {
      "text/plain": [
       "1.6101235663494153"
      ]
     },
     "metadata": {},
     "output_type": "display_data"
    },
    {
     "data": {
      "text/plain": [
       "'ini sample'"
      ]
     },
     "metadata": {},
     "output_type": "display_data"
    },
    {
     "data": {
      "text/plain": [
       "1.304006201743618"
      ]
     },
     "metadata": {},
     "output_type": "display_data"
    },
    {
     "data": {
      "text/plain": [
       "'ini sample'"
      ]
     },
     "metadata": {},
     "output_type": "display_data"
    },
    {
     "data": {
      "text/plain": [
       "1.050910992932788"
      ]
     },
     "metadata": {},
     "output_type": "display_data"
    },
    {
     "name": "stdout",
     "output_type": "stream",
     "text": [
      "Accuracy on training data: 0.5\n"
     ]
    }
   ],
   "source": [
    "import math\n",
    "class LVQ:\n",
    "    def winner(self, weights, sample):\n",
    "        D0 = 0\n",
    "        D1 = 0\n",
    "        display(\"ini sample\",sample[0])\n",
    "        \n",
    "        for i in range(len(sample)):\n",
    "            D0 = D0 + math.pow((sample[i] - weights[0][i]), 2)            \n",
    "            D1 = D1 + math.pow((sample[i] - weights[1][i]), 2)\n",
    "            # display(D0)\n",
    "            # display(D1)\n",
    "            \n",
    "        if D0 > D1:\n",
    "            return 0\n",
    "        else:\n",
    "            return 1\n",
    "\n",
    "    def update(self, weights, sample, J, alpha, actual):\n",
    "        if actual == J:  # Fixed comparison operator\n",
    "            for i in range(len(weights[0])):  # Use len(weights[0]) instead of len(weights)\n",
    "                weights[J][i] = weights[J][i] + alpha * (sample[i] - weights[J][i])\n",
    "        else:\n",
    "            for i in range(len(weights[0])):  # Use len(weights[0]) instead of len(weights)\n",
    "                weights[J][i] = weights[J][i] - alpha * (sample[i] - weights[J][i])\n",
    "\n",
    "\n",
    "X = data_latih.iloc[:, :-1].values\n",
    "Y = data_latih['target'].values\n",
    "x=X[:8]\n",
    "target=Y[:8]\n",
    "\n",
    "m, n = len(x), len(x[0])\n",
    "weights = [X[8], X[9]]\n",
    "print(weights)\n",
    "    \n",
    "m = m - 2\n",
    "\n",
    "ob = LVQ()\n",
    "epochs = 10\n",
    "initial_alpha = 0.05\n",
    "decay_rate= 0.8\n",
    "    \n",
    "for i in range(epochs):\n",
    "    current_alpha= initial_alpha * (decay_rate ** i)        \n",
    "    for j in range(m):\n",
    "        T = x[j]\n",
    "        J = ob.winner(weights, T)\n",
    "        ob.update(weights, T, J, current_alpha, target[j])\n",
    "    \n",
    "correct_predictions = 0\n",
    "total_predictions = len(x)\n",
    "    \n",
    "for i in range(total_predictions):\n",
    "    sample = x[i]\n",
    "    true_label = target[i]\n",
    "        \n",
    "    predicted_class = ob.winner(weights, sample)\n",
    "        \n",
    "    if predicted_class == true_label:\n",
    "        correct_predictions += 1\n",
    "    \n",
    "accuracy = correct_predictions / total_predictions\n",
    "print(\"Accuracy on training data:\", accuracy)\n",
    "\n",
    "\n"
   ]
  }
 ],
 "metadata": {
  "kernelspec": {
   "display_name": "Python 3",
   "language": "python",
   "name": "python3"
  },
  "language_info": {
   "codemirror_mode": {
    "name": "ipython",
    "version": 3
   },
   "file_extension": ".py",
   "mimetype": "text/x-python",
   "name": "python",
   "nbconvert_exporter": "python",
   "pygments_lexer": "ipython3",
   "version": "3.10.11"
  },
  "orig_nbformat": 4
 },
 "nbformat": 4,
 "nbformat_minor": 2
}
